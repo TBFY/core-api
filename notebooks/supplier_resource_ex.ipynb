{
  "nbformat": 4,
  "nbformat_minor": 0,
  "metadata": {
    "colab": {
      "name": "supplier_resource_ex.ipynb",
      "provenance": [],
      "authorship_tag": "ABX9TyNPMkBi8M7XqVSL81RwuCS1",
      "include_colab_link": true
    },
    "kernelspec": {
      "name": "python3",
      "display_name": "Python 3"
    }
  },
  "cells": [
    {
      "cell_type": "markdown",
      "metadata": {
        "id": "view-in-github",
        "colab_type": "text"
      },
      "source": [
        "<a href=\"https://colab.research.google.com/github/TBFY/knowledge-graph-API/blob/master/notebooks/supplier_resource_ex.ipynb\" target=\"_parent\"><img src=\"https://colab.research.google.com/assets/colab-badge.svg\" alt=\"Open In Colab\"/></a>"
      ]
    },
    {
      "cell_type": "markdown",
      "metadata": {
        "id": "9LIEblxe17XC"
      },
      "source": [
        "![TBFY-Banner](https://raw.githubusercontent.com/TBFY/general/master/figures/tbfy-banner.png)"
      ]
    },
    {
      "cell_type": "markdown",
      "metadata": {
        "id": "nMTURskn2AAT"
      },
      "source": [
        "# **List of awardees**\n",
        "This notebook is an example of how to use a new resource created that shows a list of all the organisations that have been awarded. This resource is called \"/supplier\" and has been created in response to the needs of some business cases.\n",
        "\n",
        "The resource has several fully customizable filters. Depending on the number of filters used, the response time may be affected."
      ]
    },
    {
      "cell_type": "code",
      "metadata": {
        "id": "BW_Z-_w5JL7v"
      },
      "source": [
        "import requests\n",
        "import pandas as pd\n",
        "from IPython.display import display, HTML"
      ],
      "execution_count": null,
      "outputs": []
    },
    {
      "cell_type": "code",
      "metadata": {
        "id": "hS9JGjYD3g-e",
        "cellView": "form",
        "colab": {
          "base_uri": "https://localhost:8080/",
          "height": 972
        },
        "outputId": "abdd9a15-964b-4667-c75d-327feb4a7235"
      },
      "source": [
        "#@title Search Suppliers\n",
        "\n",
        "nm = \"\"\n",
        "jur = \"\"\n",
        "stat = \"\"\n",
        "tit = \"\"\n",
        "des = \"\"\n",
        "cur = \"\"\n",
        "emp = \"\"\n",
        "sdat = \"\"\n",
        "edat = \"\"\n",
        "\n",
        "name_org =  \"\"#@param {type:\"string\"}\n",
        "\n",
        "jurisdiction = \"es\" #@param [\"\", \"gb\", \"es\", \"fr\", \"it\", \"pt\", \"no\", \"si\"] {type:\"string\"}   \n",
        "\n",
        "min_employees =   0#@param {type:\"integer\"}\n",
        "\n",
        "award_status = \"\" #@param [\"\", \"pending\", \"active\", \"cancelled\", \"unsuccessful\"] {type:\"string\"}   \n",
        "\n",
        "award_title =  \"\" #@param {type:\"string\"}\n",
        "\n",
        "award_description =  \"\" #@param {type:\"string\"}\n",
        "\n",
        "currency = \"\" #@param {type:\"string\"}\n",
        "\n",
        "start_date = \"\" #@param {type:\"date\"}\n",
        "\n",
        "end_date = \"\" #@param {type:\"date\"}\n",
        "\n",
        "max_number = 5 #@param {type:\"slider\", min:1, max:100, step:1}\n",
        "\n",
        "if len(name_org) >0:\n",
        "  nm = '&name=' + name_org\n",
        "if len(jurisdiction)>0:\n",
        "  jur = '&jurisdiction=' + jurisdiction \n",
        "if len(award_status)>0:\n",
        "  stat = '&status=' + award_status \n",
        "if len(award_title)>0:\n",
        "  tit = '&title=' + award_title \n",
        "if len(award_description)>0:\n",
        "  des = '&description=' + award_description\n",
        "if len(currency)>0:\n",
        "  cur = '&currency=' + currency\n",
        "if len(start_date)>0:\n",
        "  sdat = '&start_dt=' + start_date + 'T00:00:00Z'\n",
        "if len(end_date)>0:\n",
        "  edat = '&end_dt=' + end_date + 'T00:00:00Z'\n",
        "if min_employees>0:\n",
        "  emp = '&minemployees=' + str(min_employees)\n",
        "\n",
        "params = 'http://tbfy.librairy.linkeddata.es/api/supplier?size=' + str(max_number) + nm + jur + stat + tit + des + cur + emp + sdat + edat\n",
        "print ('Requesting : ' + params )\n",
        "print()\n",
        "resp = requests.get(params)\n",
        "\n",
        "if resp.status_code != 200:\n",
        "    # This means something went wrong.\n",
        "    raise ApiError('GET /tasks/ {}'.format(resp.status_code))\n",
        "\n",
        "df = pd.DataFrame(columns=['legalName', 'organisation', 'employees', 'award_id', 'award_title', 'award_description', 'award_date'])\n",
        "i=0\n",
        "for todo_item in resp.json():\n",
        "  print (todo_item)\n",
        "  df.loc[i] = [todo_item['legalName'],todo_item['organisation'],todo_item['numberOfEmployees'],todo_item['award']['id'],todo_item['award']['title'],todo_item['award']['description'],todo_item['award']['date']]\n",
        "  i+=1\n",
        "\n",
        "display(HTML(df.to_html(justify='left')))"
      ],
      "execution_count": null,
      "outputs": [
        {
          "output_type": "stream",
          "text": [
            "Requesting : http://tbfy.librairy.linkeddata.es/api/supplier?size=5&jurisdiction=es\n",
            "\n",
            "{'organisation': 'es-78567799', 'legalName': 'PREFABRI SL', 'jurisdiction': 'es', 'numberOfEmployees': '', 'award': {'id': 'ocds-0c46vo-0133-000307-2019_20190102000307_A1', 'title': 'Suministro, montaje y redaccin de los documentos tcnicos necesarios de los elementos prefabricados para la instalacin de una estructura modular provisional para uso de alojamiento temporal', 'description': 'Suministro, montaje y redaccin de los documentos tcnicos necesarios de los elementos prefabricados para la instalacin de una estructura modular provisional para uso de alojamiento temporal.', 'date': '2019-01-02T00:00:00+00:00', 'value': {'amount': '567720.0', 'currency': 'EUR'}}}\n",
            "{'organisation': 'es-08343956', 'legalName': 'LEONAUTO SA', 'jurisdiction': 'es', 'numberOfEmployees': '', 'award': {'id': 'ocds-0c46vo-0133-000319-2019_20190102000319_A2', 'title': '4 furgonetas 100 % elctricas', 'description': '4 turismos 100 % elctricos. 4 furgonetas 100 % elctricas. 2 turismos, tipo berlina, hbridos enchufables. 1 camin GNC con MTMA 7 200 Kg, 1 camin GNC con gra MTMA 12 000 Kg y 1 furgn GNC. 3 ciclomotores y 3 bicicletas elctricas.', 'date': '2019-01-02T00:00:00+00:00', 'value': {'amount': '84276.09', 'currency': 'EUR'}}}\n",
            "{'organisation': 'es-12389961', 'legalName': 'AUTOMOCION LA PISTA SA', 'jurisdiction': 'es', 'numberOfEmployees': '', 'award': {'id': 'ocds-0c46vo-0133-000319-2019_20190102000319_A3', 'title': '1 camin GNC con MTMA 7 200 Kg, 1 camin GNC con gra MTMA 12 000 Kg y 1 furgn GNC.', 'description': '4 turismos 100 % elctricos. 4 furgonetas 100 % elctricas. 2 turismos, tipo berlina, hbridos enchufables. 1 camin GNC con MTMA 7 200 Kg, 1 camin GNC con gra MTMA 12 000 Kg y 1 furgn GNC. 3 ciclomotores y 3 bicicletas elctricas.', 'date': '2019-01-02T00:00:00+00:00', 'value': {'amount': '180165.28', 'currency': 'EUR'}}}\n",
            "{'organisation': 'es-52022605', 'legalName': 'ULTRACONGELADOS YASER SL', 'jurisdiction': 'es', 'numberOfEmployees': '', 'award': {'id': 'ocds-0c46vo-0133-000397-2019_20190102000397_A1', 'title': 'Aceites', 'description': 'Aceites. Caf. Carnes y aves frescas. Embutidos y carchutera. Especias, caldos y condimentos. Ultracongelados. Conservas, bebidas y varios. Frutas y verduras. Huevos. Lcteos. Legumbres, arroces y pastas. Pan. Productos en porciones.', 'date': '2019-01-02T00:00:00+00:00', 'value': {'amount': '24115.0', 'currency': 'EUR'}}}\n",
            "{'organisation': 'es-52022605', 'legalName': 'ULTRACONGELADOS YASER SL', 'jurisdiction': 'es', 'numberOfEmployees': '', 'award': {'id': 'ocds-0c46vo-0133-000397-2019_20190102000397_A10', 'title': 'Lcteos', 'description': 'Aceites. Caf. Carnes y aves frescas. Embutidos y carchutera. Especias, caldos y condimentos. Ultracongelados. Conservas, bebidas y varios. Frutas y verduras. Huevos. Lcteos. Legumbres, arroces y pastas. Pan. Productos en porciones.', 'date': '2019-01-02T00:00:00+00:00', 'value': {'amount': '27730.0', 'currency': 'EUR'}}}\n"
          ],
          "name": "stdout"
        },
        {
          "output_type": "display_data",
          "data": {
            "text/html": [
              "<table border=\"1\" class=\"dataframe\">\n",
              "  <thead>\n",
              "    <tr style=\"text-align: left;\">\n",
              "      <th></th>\n",
              "      <th>legalName</th>\n",
              "      <th>organisation</th>\n",
              "      <th>employees</th>\n",
              "      <th>award_id</th>\n",
              "      <th>award_title</th>\n",
              "      <th>award_description</th>\n",
              "      <th>award_date</th>\n",
              "    </tr>\n",
              "  </thead>\n",
              "  <tbody>\n",
              "    <tr>\n",
              "      <th>0</th>\n",
              "      <td>PREFABRI SL</td>\n",
              "      <td>es-78567799</td>\n",
              "      <td></td>\n",
              "      <td>ocds-0c46vo-0133-000307-2019_20190102000307_A1</td>\n",
              "      <td>Suministro, montaje y redaccin de los documentos tcnicos necesarios de los elementos prefabricados para la instalacin de una estructura modular provisional para uso de alojamiento temporal</td>\n",
              "      <td>Suministro, montaje y redaccin de los documentos tcnicos necesarios de los elementos prefabricados para la instalacin de una estructura modular provisional para uso de alojamiento temporal.</td>\n",
              "      <td>2019-01-02T00:00:00+00:00</td>\n",
              "    </tr>\n",
              "    <tr>\n",
              "      <th>1</th>\n",
              "      <td>LEONAUTO SA</td>\n",
              "      <td>es-08343956</td>\n",
              "      <td></td>\n",
              "      <td>ocds-0c46vo-0133-000319-2019_20190102000319_A2</td>\n",
              "      <td>4 furgonetas 100 % elctricas</td>\n",
              "      <td>4 turismos 100 % elctricos. 4 furgonetas 100 % elctricas. 2 turismos, tipo berlina, hbridos enchufables. 1 camin GNC con MTMA 7 200 Kg, 1 camin GNC con gra MTMA 12 000 Kg y 1 furgn GNC. 3 ciclomotores y 3 bicicletas elctricas.</td>\n",
              "      <td>2019-01-02T00:00:00+00:00</td>\n",
              "    </tr>\n",
              "    <tr>\n",
              "      <th>2</th>\n",
              "      <td>AUTOMOCION LA PISTA SA</td>\n",
              "      <td>es-12389961</td>\n",
              "      <td></td>\n",
              "      <td>ocds-0c46vo-0133-000319-2019_20190102000319_A3</td>\n",
              "      <td>1 camin GNC con MTMA 7 200 Kg, 1 camin GNC con gra MTMA 12 000 Kg y 1 furgn GNC.</td>\n",
              "      <td>4 turismos 100 % elctricos. 4 furgonetas 100 % elctricas. 2 turismos, tipo berlina, hbridos enchufables. 1 camin GNC con MTMA 7 200 Kg, 1 camin GNC con gra MTMA 12 000 Kg y 1 furgn GNC. 3 ciclomotores y 3 bicicletas elctricas.</td>\n",
              "      <td>2019-01-02T00:00:00+00:00</td>\n",
              "    </tr>\n",
              "    <tr>\n",
              "      <th>3</th>\n",
              "      <td>ULTRACONGELADOS YASER SL</td>\n",
              "      <td>es-52022605</td>\n",
              "      <td></td>\n",
              "      <td>ocds-0c46vo-0133-000397-2019_20190102000397_A1</td>\n",
              "      <td>Aceites</td>\n",
              "      <td>Aceites. Caf. Carnes y aves frescas. Embutidos y carchutera. Especias, caldos y condimentos. Ultracongelados. Conservas, bebidas y varios. Frutas y verduras. Huevos. Lcteos. Legumbres, arroces y pastas. Pan. Productos en porciones.</td>\n",
              "      <td>2019-01-02T00:00:00+00:00</td>\n",
              "    </tr>\n",
              "    <tr>\n",
              "      <th>4</th>\n",
              "      <td>ULTRACONGELADOS YASER SL</td>\n",
              "      <td>es-52022605</td>\n",
              "      <td></td>\n",
              "      <td>ocds-0c46vo-0133-000397-2019_20190102000397_A10</td>\n",
              "      <td>Lcteos</td>\n",
              "      <td>Aceites. Caf. Carnes y aves frescas. Embutidos y carchutera. Especias, caldos y condimentos. Ultracongelados. Conservas, bebidas y varios. Frutas y verduras. Huevos. Lcteos. Legumbres, arroces y pastas. Pan. Productos en porciones.</td>\n",
              "      <td>2019-01-02T00:00:00+00:00</td>\n",
              "    </tr>\n",
              "  </tbody>\n",
              "</table>"
            ],
            "text/plain": [
              "<IPython.core.display.HTML object>"
            ]
          },
          "metadata": {
            "tags": []
          }
        }
      ]
    },
    {
      "cell_type": "markdown",
      "metadata": {
        "id": "bknn4-sY8rDa"
      },
      "source": [
        "#Reconciliation\n",
        "\n",
        "Once we have a list of awardees we can also match organisation names to legal corporate entities using the OpenRefine Reconciliation API"
      ]
    },
    {
      "cell_type": "code",
      "metadata": {
        "id": "iSQouNZzrWk6",
        "cellView": "form"
      },
      "source": [
        "#@title Reconcile Suppliers\n",
        "\n",
        "name_org =  \"\"#@param {type:\"string\"}\n",
        "newname= name_org.replace(\" \", \"+\")\n",
        "jurisdiction = \"es\" #@param [\"gb\", \"es\", \"fr\", \"it\", \"pt\", \"no\"] {type:\"string\"}  \n",
        "\n",
        "params = 'https://opencorporates.com/reconcile/' + jurisdiction + '?query=' + newname\n",
        "resp = requests.get(params)\n",
        "\n",
        "print ('Requesting : ' + params )\n",
        "print ()\n",
        "json_val = resp.json()['result']\n",
        "\n",
        "if resp.status_code != 200:\n",
        "    # This means something went wrong.\n",
        "    raise ApiError('GET /tasks/ {}'.format(resp.status_code))\n",
        "\n",
        "df = pd.DataFrame(columns=['id', 'name', 'score', 'match', 'uri'])\n",
        "i=0\n",
        "for todo_item in json_val:\n",
        "  new_id = todo_item['id'].replace(\"/companies/\",\"\")\n",
        "  new_id = new_id.replace(\"/\",\"-\")\n",
        "  df.loc[i] = [new_id, todo_item['name'], todo_item['score'], todo_item['match'], todo_item['uri']]\n",
        "  i+=1\n",
        "\n",
        "display(HTML(df.to_html(justify='left')))\n"
      ],
      "execution_count": null,
      "outputs": []
    }
  ]
}