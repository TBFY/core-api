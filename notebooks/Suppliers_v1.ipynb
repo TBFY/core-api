{
  "nbformat": 4,
  "nbformat_minor": 0,
  "metadata": {
    "colab": {
      "name": "Suppliers_v1.ipynb",
      "provenance": [],
      "authorship_tag": "ABX9TyO1MWAyegqvOVEm8wVMX/rb",
      "include_colab_link": true
    },
    "kernelspec": {
      "name": "python3",
      "display_name": "Python 3"
    }
  },
  "cells": [
    {
      "cell_type": "markdown",
      "metadata": {
        "id": "view-in-github",
        "colab_type": "text"
      },
      "source": [
        "<a href=\"https://colab.research.google.com/github/TBFY/knowledge-graph-API/blob/master/notebooks/Suppliers_v1.ipynb\" target=\"_parent\"><img src=\"https://colab.research.google.com/assets/colab-badge.svg\" alt=\"Open In Colab\"/></a>"
      ]
    },
    {
      "cell_type": "markdown",
      "metadata": {
        "id": "9LIEblxe17XC",
        "colab_type": "text"
      },
      "source": [
        "![TBFY-Banner](https://raw.githubusercontent.com/TBFY/general/master/figures/tbfy-banner.png)"
      ]
    },
    {
      "cell_type": "markdown",
      "metadata": {
        "id": "nMTURskn2AAT",
        "colab_type": "text"
      },
      "source": [
        "# **List of awardees**\n",
        "This notebook is an example of how to use a new resource created that shows a list of all the organisations that have been awarded. This resource is called \"/supplier\" and has been created in response to the needs of some business cases.\n",
        "\n",
        "The resource has several fully customizable filters. Depending on the number of filters used, the response time may be affected."
      ]
    },
    {
      "cell_type": "code",
      "metadata": {
        "id": "BW_Z-_w5JL7v",
        "colab_type": "code",
        "colab": {}
      },
      "source": [
        "import requests\n",
        "import pandas as pd\n",
        "from IPython.display import display, HTML"
      ],
      "execution_count": 0,
      "outputs": []
    },
    {
      "cell_type": "code",
      "metadata": {
        "id": "hS9JGjYD3g-e",
        "colab_type": "code",
        "outputId": "9e72f550-2ed6-4bc0-f99d-8e1df52f3ccc",
        "colab": {
          "base_uri": "https://localhost:8080/",
          "height": 323
        }
      },
      "source": [
        "#@title Search Suppliers\n",
        "\n",
        "nm = \"\"\n",
        "jur = \"\"\n",
        "stat = \"\"\n",
        "tit = \"\"\n",
        "des = \"\"\n",
        "cur = \"\"\n",
        "emp = \"\"\n",
        "sdat = \"\"\n",
        "edat = \"\"\n",
        "\n",
        "name_org =  \"\"#@param {type:\"string\"}\n",
        "\n",
        "jurisdiction = \"\" #@param [\"\", \"gb\", \"es\", \"fr\", \"it\", \"pt\", \"no\"] {type:\"string\"}   \n",
        "\n",
        "min_employees =  0 #@param {type:\"integer\"}\n",
        "\n",
        "award_status = \"\" #@param [\"\", \"pending\", \"active\", \"cancelled\", \"unsuccessful\"] {type:\"string\"}   \n",
        "\n",
        "award_title =  \"\" #@param {type:\"string\"}\n",
        "\n",
        "award_description =  \"\" #@param {type:\"string\"}\n",
        "\n",
        "currency = \"\" #@param {type:\"string\"}\n",
        "\n",
        "start_date = \"\" #@param {type:\"date\"}\n",
        "\n",
        "end_date = \"\" #@param {type:\"date\"}\n",
        "\n",
        "max_number = 5 #@param {type:\"slider\", min:1, max:100, step:1}\n",
        "\n",
        "if len(name_org) >0:\n",
        "  nm = '&name=' + name_org\n",
        "if len(jurisdiction)>0:\n",
        "  jur = '&jurisdiction=' + jurisdiction \n",
        "if len(award_status)>0:\n",
        "  stat = '&status=' + award_status \n",
        "if len(award_title)>0:\n",
        "  tit = '&title=' + award_title \n",
        "if len(award_description)>0:\n",
        "  des = '&description=' + award_description\n",
        "if len(currency)>0:\n",
        "  cur = '&currency=' + currency\n",
        "if len(start_date)>0:\n",
        "  sdat = '&start_dt=' + start_date + 'T00:00:00Z'\n",
        "if len(end_date)>0:\n",
        "  edat = '&end_dt=' + end_date + 'T00:00:00Z'\n",
        "if min_employees>0:\n",
        "  emp = '&minemployees=' + str(min_employees)\n",
        "\n",
        "params = 'http://tbfy.librairy.linkeddata.es/kg-api/supplier?size=' + str(max_number) + nm + jur + stat + tit + des + cur + emp + sdat + edat\n",
        "print ('Requesting : ' + params )\n",
        "print()\n",
        "resp = requests.get(params)\n",
        "\n",
        "if resp.status_code != 200:\n",
        "    # This means something went wrong.\n",
        "    raise ApiError('GET /tasks/ {}'.format(resp.status_code))\n",
        "\n",
        "df = pd.DataFrame(columns=['legalName', 'organisation', 'employees', 'award_id', 'award_title', 'award_description', 'award_date'])\n",
        "i=0\n",
        "for todo_item in resp.json():\n",
        "  df.loc[i] = [todo_item['legalName'],todo_item['organisation'],todo_item['numberOfEmployees'],todo_item['award']['id'],todo_item['award']['title'],todo_item['award']['description'],todo_item['award']['date']]\n",
        "  i+=1\n",
        "\n",
        "display(HTML(df.to_html(justify='left')))"
      ],
      "execution_count": 0,
      "outputs": [
        {
          "output_type": "stream",
          "text": [
            "Requesting : http://tbfy.librairy.linkeddata.es/kg-api/supplier?size=5\n",
            "\n"
          ],
          "name": "stdout"
        },
        {
          "output_type": "display_data",
          "data": {
            "text/html": [
              "<table border=\"1\" class=\"dataframe\">\n",
              "  <thead>\n",
              "    <tr style=\"text-align: left;\">\n",
              "      <th></th>\n",
              "      <th>legalName</th>\n",
              "      <th>organisation</th>\n",
              "      <th>employees</th>\n",
              "      <th>award_id</th>\n",
              "      <th>award_title</th>\n",
              "      <th>award_description</th>\n",
              "      <th>award_date</th>\n",
              "    </tr>\n",
              "  </thead>\n",
              "  <tbody>\n",
              "    <tr>\n",
              "      <th>0</th>\n",
              "      <td>TRUSTMARQUE SOLUTIONS LIMITED</td>\n",
              "      <td>gb-02183240</td>\n",
              "      <td></td>\n",
              "      <td>ocds-0c46vo-0001-02f25542-7be1-42f8-a670-873fe39f2cd7_1bef4ef5-d95d-47b0-9baf-9db8564688e3</td>\n",
              "      <td></td>\n",
              "      <td>See description of related tender</td>\n",
              "      <td>2018-12-21T00:00:00Z</td>\n",
              "    </tr>\n",
              "    <tr>\n",
              "      <th>1</th>\n",
              "      <td>THOUGHTBOT LIMITED</td>\n",
              "      <td>gb-05943167</td>\n",
              "      <td></td>\n",
              "      <td>ocds-0c46vo-0001-0b1a2380-10ac-45ea-82dc-519e24ee8dcf_cf353a41-b18f-406a-8806-dbfff343e173</td>\n",
              "      <td></td>\n",
              "      <td>See description of related tender</td>\n",
              "      <td>2018-12-01T00:00:00Z</td>\n",
              "    </tr>\n",
              "    <tr>\n",
              "      <th>2</th>\n",
              "      <td>XAIS ASSET MANAGEMENT LIMITED</td>\n",
              "      <td>gb-09537184</td>\n",
              "      <td></td>\n",
              "      <td>ocds-0c46vo-0001-270e7ae7-baba-4d08-8b5c-ab2e5b5cefa0_b3b83e67-a126-4de8-b944-8eac9b974747</td>\n",
              "      <td></td>\n",
              "      <td>See description of related tender</td>\n",
              "      <td>2018-12-18T00:00:00Z</td>\n",
              "    </tr>\n",
              "    <tr>\n",
              "      <th>3</th>\n",
              "      <td>GARTNER U.K. LIMITED</td>\n",
              "      <td>gb-02266016</td>\n",
              "      <td></td>\n",
              "      <td>ocds-0c46vo-0001-29ddce19-ac90-4174-bb91-b7e8127f885b_75176dcb-80c8-4e3a-a1d7-0528cfdee512</td>\n",
              "      <td></td>\n",
              "      <td>See description of related tender</td>\n",
              "      <td>2018-12-10T00:00:00Z</td>\n",
              "    </tr>\n",
              "    <tr>\n",
              "      <th>4</th>\n",
              "      <td>PEUGEOT MOTOR COMPANY PLC</td>\n",
              "      <td>gb-00148545</td>\n",
              "      <td></td>\n",
              "      <td>ocds-0c46vo-0001-509cac8d-c115-4587-af06-8e94214ba148_068aaf69-f37c-4121-a334-a9c8649225b4</td>\n",
              "      <td></td>\n",
              "      <td>See description of related tender</td>\n",
              "      <td>2018-12-18T00:00:00Z</td>\n",
              "    </tr>\n",
              "  </tbody>\n",
              "</table>"
            ],
            "text/plain": [
              "<IPython.core.display.HTML object>"
            ]
          },
          "metadata": {
            "tags": []
          }
        }
      ]
    },
    {
      "cell_type": "markdown",
      "metadata": {
        "id": "bknn4-sY8rDa",
        "colab_type": "text"
      },
      "source": [
        "#Reconciliation\n",
        "\n",
        "Once we have a list of awardees we can also match organisation names to legal corporate entities using the OpenRefine Reconciliation API"
      ]
    },
    {
      "cell_type": "code",
      "metadata": {
        "id": "iSQouNZzrWk6",
        "colab_type": "code",
        "outputId": "cdc28383-da43-455f-d4ca-b56aff0fdc3f",
        "colab": {
          "base_uri": "https://localhost:8080/",
          "height": 145
        }
      },
      "source": [
        "#@title Reconcile Suppliers\n",
        "\n",
        "name_org =  \"leonauto\"#@param {type:\"string\"}\n",
        "newname= name_org.replace(\" \", \"+\")\n",
        "jurisdiction = \"es\" #@param [\"gb\", \"es\", \"fr\", \"it\", \"pt\", \"no\"] {type:\"string\"}  \n",
        "\n",
        "params = 'https://opencorporates.com/reconcile/' + jurisdiction + '?query=' + newname\n",
        "resp = requests.get(params)\n",
        "\n",
        "print ('Requesting : ' + params )\n",
        "print ()\n",
        "json_val = resp.json()['result']\n",
        "\n",
        "if resp.status_code != 200:\n",
        "    # This means something went wrong.\n",
        "    raise ApiError('GET /tasks/ {}'.format(resp.status_code))\n",
        "\n",
        "df = pd.DataFrame(columns=['id', 'name', 'score', 'match', 'uri'])\n",
        "i=0\n",
        "for todo_item in json_val:\n",
        "  new_id = todo_item['id'].replace(\"/companies/\",\"\")\n",
        "  new_id = new_id.replace(\"/\",\"-\")\n",
        "  df.loc[i] = [new_id, todo_item['name'], todo_item['score'], todo_item['match'], todo_item['uri']]\n",
        "  i+=1\n",
        "\n",
        "display(HTML(df.to_html(justify='left')))\n"
      ],
      "execution_count": 0,
      "outputs": [
        {
          "output_type": "stream",
          "text": [
            "Requesting : https://opencorporates.com/reconcile/es?query=leonauto\n",
            "\n"
          ],
          "name": "stdout"
        },
        {
          "output_type": "display_data",
          "data": {
            "text/html": [
              "<table border=\"1\" class=\"dataframe\">\n",
              "  <thead>\n",
              "    <tr style=\"text-align: left;\">\n",
              "      <th></th>\n",
              "      <th>id</th>\n",
              "      <th>name</th>\n",
              "      <th>score</th>\n",
              "      <th>match</th>\n",
              "      <th>uri</th>\n",
              "    </tr>\n",
              "  </thead>\n",
              "  <tbody>\n",
              "    <tr>\n",
              "      <th>0</th>\n",
              "      <td>es-08343956</td>\n",
              "      <td>LEONAUTO SA</td>\n",
              "      <td>68.0</td>\n",
              "      <td>False</td>\n",
              "      <td>https://opencorporates.com/companies/es/08343956</td>\n",
              "    </tr>\n",
              "    <tr>\n",
              "      <th>1</th>\n",
              "      <td>es-95340261</td>\n",
              "      <td>LEONAUTO 2004 SOCIEDAD LIMITADA</td>\n",
              "      <td>57.0</td>\n",
              "      <td>False</td>\n",
              "      <td>https://opencorporates.com/companies/es/95340261</td>\n",
              "    </tr>\n",
              "  </tbody>\n",
              "</table>"
            ],
            "text/plain": [
              "<IPython.core.display.HTML object>"
            ]
          },
          "metadata": {
            "tags": []
          }
        }
      ]
    }
  ]
}