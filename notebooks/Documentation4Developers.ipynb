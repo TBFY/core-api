{
  "nbformat": 4,
  "nbformat_minor": 0,
  "metadata": {
    "colab": {
      "name": "Copia de Documentation4Developers.ipynb",
      "provenance": [],
      "collapsed_sections": [],
      "include_colab_link": true
    },
    "kernelspec": {
      "name": "python3",
      "display_name": "Python 3"
    }
  },
  "cells": [
    {
      "cell_type": "markdown",
      "metadata": {
        "id": "view-in-github",
        "colab_type": "text"
      },
      "source": [
        "<a href=\"https://colab.research.google.com/github/TBFY/knowledge-graph-API/blob/master/notebooks/Documentation4Developers.ipynb\" target=\"_parent\"><img src=\"https://colab.research.google.com/assets/colab-badge.svg\" alt=\"Open In Colab\"/></a>"
      ]
    },
    {
      "cell_type": "markdown",
      "metadata": {
        "id": "ClYPL1LU38oC"
      },
      "source": [
        "![TBFY-Banner](https://raw.githubusercontent.com/TBFY/general/master/figures/tbfy-banner.png)"
      ]
    },
    {
      "cell_type": "markdown",
      "metadata": {
        "id": "n9jpmix0Ty9F"
      },
      "source": [
        "# **DOCUMENTATION FOR DEVELOPERS**\n",
        "\n"
      ]
    },
    {
      "cell_type": "code",
      "metadata": {
        "id": "XD7bxts938GZ",
        "colab": {
          "base_uri": "https://localhost:8080/"
        },
        "outputId": "03797815-0918-469b-8baf-c90d3590b201"
      },
      "source": [
        "pip install requests"
      ],
      "execution_count": null,
      "outputs": [
        {
          "output_type": "stream",
          "text": [
            "Requirement already satisfied: requests in /usr/local/lib/python3.6/dist-packages (2.23.0)\n",
            "Requirement already satisfied: chardet<4,>=3.0.2 in /usr/local/lib/python3.6/dist-packages (from requests) (3.0.4)\n",
            "Requirement already satisfied: idna<3,>=2.5 in /usr/local/lib/python3.6/dist-packages (from requests) (2.10)\n",
            "Requirement already satisfied: urllib3!=1.25.0,!=1.25.1,<1.26,>=1.21.1 in /usr/local/lib/python3.6/dist-packages (from requests) (1.24.3)\n",
            "Requirement already satisfied: certifi>=2017.4.17 in /usr/local/lib/python3.6/dist-packages (from requests) (2020.12.5)\n"
          ],
          "name": "stdout"
        }
      ]
    },
    {
      "cell_type": "markdown",
      "metadata": {
        "id": "S5JX96q-3kCh"
      },
      "source": [
        "# **INTRODUCTION**\n",
        "\n",
        "The docker-based TheyBuyForYou API is built to allow you to obtain public procurement data from the TheyBuyForYou project [knowledge graph](https://github.com/TBFY/knowledge-graph).\n",
        "\n",
        "The API is organised around REST. All API calls should be made to the http://tbfy.librairy.linkeddata.es/kg-api/ base domain. A JSON file will be returned in all responses from the API. The API allows you 25 different calls organised in 5 main groups:\n",
        "\n",
        "1. Organisations\n",
        "1. Contracts\n",
        "1. Contracting processes\n",
        "1. Tenders\n",
        "1. Awards\n",
        "\n",
        "\n"
      ]
    },
    {
      "cell_type": "markdown",
      "metadata": {
        "id": "vUxwSBL1oQda"
      },
      "source": [
        "# 1. **ORGANISATIONS**\n",
        "\n",
        "This resource offers all the information related to organisations. It is divided into four services:"
      ]
    },
    {
      "cell_type": "markdown",
      "metadata": {
        "id": "c2ktoDKFf1Y1"
      },
      "source": [
        "* **GET /organisation** that offers the whole list of organisations. No parameters are defined in this call that will display the following information:\n",
        "\n",
        "|Field           |Description                                                        |Type   |Required|\n",
        "|----------------|-------------------------------------------------------------------|-------|--------|\n",
        "|**id**          |Corresponds to the identifier of the organisation, must be unique  |string |true    |    \n",
        "|**legalName**          |Corresponds to the legal name of the organisation |string |false    |     \n",
        "|**jurisdiction**          |Corresponds to the jurisdiction of the organisation |string |false |      "
      ]
    },
    {
      "cell_type": "code",
      "metadata": {
        "id": "xck7sV-I3_2j",
        "colab": {
          "base_uri": "https://localhost:8080/"
        },
        "outputId": "be7ed3bc-3dbd-46ad-8b7f-6df6ee5e9b44"
      },
      "source": [
        "import requests\n",
        "\n",
        "class APIError(Exception):\n",
        "    \"\"\"An API Error Exception\"\"\"\n",
        "\n",
        "    def __init__(self, status):\n",
        "        self.status = status\n",
        "\n",
        "    def __str__(self):\n",
        "        return \"APIError: status={}\".format(self.status)\n",
        "      \n",
        "def RetrieveField(json,field):\n",
        "  value=''\n",
        "  try: \n",
        "    value = json[field]\n",
        "  except:\n",
        "    print()\n",
        "  return value\n",
        "\n",
        "resp = requests.get('http://tbfy.librairy.linkeddata.es/kg-api/organisation')\n",
        "if resp.status_code != 200:\n",
        "    # This means something went wrong.\n",
        "    raise ApiError('GET /tasks/ {}'.format(resp.status_code))\n",
        "for todo_item in resp.json():\n",
        "    print('{} {} {}'.format(todo_item['id'], todo_item['legalName'], todo_item['jurisdiction']))"
      ],
      "execution_count": null,
      "outputs": [
        {
          "output_type": "stream",
          "text": [
            "gb-02183240 TRUSTMARQUE SOLUTIONS LIMITED gb\n",
            "gb-05943167 THOUGHTBOT LIMITED gb\n",
            "gb-09537184 XAIS ASSET MANAGEMENT LIMITED gb\n",
            "gb-02266016 GARTNER U.K. LIMITED gb\n",
            "gb-00148545 PEUGEOT MOTOR COMPANY PLC gb\n",
            "gb-05509733 PROVENTURE CONSULTING LIMITED gb\n",
            "gb-11166875 ALL STAR CLEANING SERVICES LIMITED gb\n",
            "gb-03948038 KNOWSLEY LIFT SERVICES LIMITED gb\n",
            "gb-SC475583 CASTLE WATER LIMITED gb\n",
            "gb-02904006 OPINION RESEARCH SERVICES LIMITED gb\n"
          ],
          "name": "stdout"
        }
      ]
    },
    {
      "cell_type": "markdown",
      "metadata": {
        "id": "bjCb-j7swsJQ"
      },
      "source": [
        "The number of records shown could be modified by including the size in the parameter:"
      ]
    },
    {
      "cell_type": "code",
      "metadata": {
        "id": "uB3NCCz_w1Kn",
        "colab": {
          "base_uri": "https://localhost:8080/"
        },
        "outputId": "e48e0484-29dc-434e-e287-198479a339a3"
      },
      "source": [
        "resp = requests.get('http://tbfy.librairy.linkeddata.es/kg-api/organisation?size=20')\n",
        "if resp.status_code != 200:\n",
        "    # This means something went wrong.\n",
        "    raise ApiError('GET /tasks/ {}'.format(resp.status_code))\n",
        "for todo_item in resp.json():\n",
        "    print('{} {}'.format(todo_item['id'], todo_item['legalName']))"
      ],
      "execution_count": null,
      "outputs": [
        {
          "output_type": "stream",
          "text": [
            "gb-02183240 TRUSTMARQUE SOLUTIONS LIMITED\n",
            "gb-05943167 THOUGHTBOT LIMITED\n",
            "gb-09537184 XAIS ASSET MANAGEMENT LIMITED\n",
            "gb-02266016 GARTNER U.K. LIMITED\n",
            "gb-00148545 PEUGEOT MOTOR COMPANY PLC\n",
            "gb-05509733 PROVENTURE CONSULTING LIMITED\n",
            "gb-11166875 ALL STAR CLEANING SERVICES LIMITED\n",
            "gb-03948038 KNOWSLEY LIFT SERVICES LIMITED\n",
            "gb-SC475583 CASTLE WATER LIMITED\n",
            "gb-02904006 OPINION RESEARCH SERVICES LIMITED\n",
            "gb-01471587 VODAFONE LIMITED\n",
            "gb-02324716 CITY DEMOLITION CONTRACTORS (BIRMINGHAM) LIMITED\n",
            "gb-01542629 TROJAN CONSULTANTS LIMITED\n",
            "gb-06316046 TIGERSPIKE LTD\n",
            "gb-04251423 WHALE TANKERS LIMITED\n",
            "fr-130003981 SERVICE HYDROGRAPHIQUE ET OCEANOGRAPHIQUE DE LA MARINE\n",
            "nl-27157480 Mariene Informatie Service Maris B.V.\n",
            "no-977182697 STIFTELSEN GRID-ARENDAL\n",
            "nl-63306018 GGS Geo Consultancy B.V.\n",
            "gb-07206926 OCEANWISE LIMITED\n"
          ],
          "name": "stdout"
        }
      ]
    },
    {
      "cell_type": "markdown",
      "metadata": {
        "id": "hBBcFlJHdaAy"
      },
      "source": [
        "So, these exceptions must be controlled."
      ]
    },
    {
      "cell_type": "code",
      "metadata": {
        "id": "9EyiI0K8pZ3P",
        "colab": {
          "base_uri": "https://localhost:8080/",
          "height": 181
        },
        "outputId": "7de7cb94-95bb-4974-9bef-10498b6d2fb2"
      },
      "source": [
        "for todo_item in resp.json():\n",
        "    print('{} {}'.format(RetrieveField(todo_item,'id'), RetrieveField(todo_item,'legalName')))\n"
      ],
      "execution_count": 1,
      "outputs": [
        {
          "output_type": "error",
          "ename": "NameError",
          "evalue": "ignored",
          "traceback": [
            "\u001b[0;31m---------------------------------------------------------------------------\u001b[0m",
            "\u001b[0;31mNameError\u001b[0m                                 Traceback (most recent call last)",
            "\u001b[0;32m<ipython-input-1-2252f70f814e>\u001b[0m in \u001b[0;36m<module>\u001b[0;34m()\u001b[0m\n\u001b[0;32m----> 1\u001b[0;31m \u001b[0;32mfor\u001b[0m \u001b[0mtodo_item\u001b[0m \u001b[0;32min\u001b[0m \u001b[0mresp\u001b[0m\u001b[0;34m.\u001b[0m\u001b[0mjson\u001b[0m\u001b[0;34m(\u001b[0m\u001b[0;34m)\u001b[0m\u001b[0;34m:\u001b[0m\u001b[0;34m\u001b[0m\u001b[0;34m\u001b[0m\u001b[0m\n\u001b[0m\u001b[1;32m      2\u001b[0m     \u001b[0mprint\u001b[0m\u001b[0;34m(\u001b[0m\u001b[0;34m'{} {}'\u001b[0m\u001b[0;34m.\u001b[0m\u001b[0mformat\u001b[0m\u001b[0;34m(\u001b[0m\u001b[0mRetrieveField\u001b[0m\u001b[0;34m(\u001b[0m\u001b[0mtodo_item\u001b[0m\u001b[0;34m,\u001b[0m\u001b[0;34m'id'\u001b[0m\u001b[0;34m)\u001b[0m\u001b[0;34m,\u001b[0m \u001b[0mRetrieveField\u001b[0m\u001b[0;34m(\u001b[0m\u001b[0mtodo_item\u001b[0m\u001b[0;34m,\u001b[0m\u001b[0;34m'legalName'\u001b[0m\u001b[0;34m)\u001b[0m\u001b[0;34m)\u001b[0m\u001b[0;34m)\u001b[0m\u001b[0;34m\u001b[0m\u001b[0;34m\u001b[0m\u001b[0m\n",
            "\u001b[0;31mNameError\u001b[0m: name 'resp' is not defined"
          ]
        }
      ]
    },
    {
      "cell_type": "markdown",
      "metadata": {
        "id": "Saxt3hpMeRNY"
      },
      "source": [
        "* **GET /organisation/{id}** that offers the whole information of a specific organisation, knowing its ID. One address parameter (id) is defined in the call that will display the following information:\n",
        "\n",
        "|Field           |Description                                                        |Type   |Required|\n",
        "|----------------|-------------------------------------------------------------------|-------|--------|\n",
        "|**id**          |Corresponds to the identifier of the organisation, must be unique  |string |true    |  \n",
        "|**name**        |A common name for the organisation by which this entity is known   |string |false   | \n",
        "|**locality**    |The locality of the contact point/person                           |string |false   | \n",
        "|**postal code** |The postal code of the contact point/person                        |string |false   | \n",
        "|**email**       |The e-mail address of the contact point/person                     |string |false   | \n",
        "|**telephone**   |The telephone number of the contact point/person. This should      |string |false   | \n",
        "|                |include the international dialing code                             |       |        |"
      ]
    },
    {
      "cell_type": "code",
      "metadata": {
        "id": "cesnQH4ddumJ",
        "colab": {
          "base_uri": "https://localhost:8080/"
        },
        "outputId": "7e1911c5-b1fb-45a9-c991-9fa12ff18a23"
      },
      "source": [
        "# ocid = str(input(\"Please, insert the identifier: \"))\n",
        "ocid = 'gb-SC475583'\n",
        "resp = requests.get('http://tbfy.librairy.linkeddata.es/kg-api/organisation/' + ocid)\n",
        "if resp.status_code != 200:\n",
        "    # This means something went wrong.\n",
        "    raise ApiError('GET /tasks/ {}'.format(resp.status_code))\n",
        "print('Identifier: ' + RetrieveField(resp.json(),'id'))\n",
        "print('Name: ' + RetrieveField(resp.json(),'legalName'))\n",
        "print('Address: ' + RetrieveField(resp.json(),'fulAddress'))\n",
        "print('Locality: ' + RetrieveField(resp.json(),'locality'))\n",
        "print('Postal Code: ' + RetrieveField(resp.json(),'postalCode'))\n",
        "print('Email: ' + RetrieveField(resp.json(),'email'))\n",
        "print('Telephone: ' + RetrieveField(resp.json(),'telephone'))\n",
        "print (resp.json())"
      ],
      "execution_count": null,
      "outputs": [
        {
          "output_type": "stream",
          "text": [
            "Identifier: gb-SC475583\n",
            "Name: CASTLE WATER LIMITED\n",
            "\n",
            "Address: \n",
            "\n",
            "Locality: \n",
            "\n",
            "Postal Code: \n",
            "\n",
            "Email: \n",
            "\n",
            "Telephone: \n",
            "{'id': 'gb-SC475583', 'legalName': 'CASTLE WATER LIMITED', 'jurisdiction': 'gb', 'foundingDate': '2014-04-17', 'dissolutionDate': '', 'numberOfEmployees': '', 'status': 'Active', 'activity': 'Water collection, treatment and supply', 'activityType': 'Private Limited Company', 'fullAddress': {'address': '1 Boat BraeRattray, Blairgowrie, PH10 7BH', 'postCode': 'PH10 7BH', 'postName': 'Blairgowrie', 'thoroughfare': '1 Boat BraeRattray'}}\n"
          ],
          "name": "stdout"
        }
      ]
    },
    {
      "cell_type": "markdown",
      "metadata": {
        "id": "KT8cp-xVgS6y"
      },
      "source": [
        "* **GET /organisation/{id}/contracting-process** that offers the whole list of contracting-processes which a specific organisations is involved in."
      ]
    },
    {
      "cell_type": "code",
      "metadata": {
        "id": "0ThRfhSmgtjC",
        "colab": {
          "base_uri": "https://localhost:8080/"
        },
        "outputId": "e829d564-daec-4064-ccd5-3fbb06def782"
      },
      "source": [
        "resp = requests.get('http://tbfy.librairy.linkeddata.es/kg-api/organisation/' + ocid + '/contractingProcess/')\n",
        "if resp.status_code != 200:\n",
        "    # This means something went wrong.\n",
        "    raise ApiError('GET /tasks/ {}'.format(resp.status_code))\n",
        "for todo_item in resp.json():\n",
        "    print('{} '.format(todo_item['id']))"
      ],
      "execution_count": null,
      "outputs": [
        {
          "output_type": "stream",
          "text": [
            "ocds-0c46vo-0001-8c774d64-72fe-4558-a610-38247330e2c4 \n",
            "ocds-0c46vo-0001-83819ba1-e901-4962-98a4-284de635387f \n",
            "ocds-0c46vo-0133-500627-2020 \n",
            "ocds-0c46vo-0133-500627-2020 \n",
            "ocds-0c46vo-0133-500627-2020 \n"
          ],
          "name": "stdout"
        }
      ]
    },
    {
      "cell_type": "markdown",
      "metadata": {
        "id": "KFKI63fQtr-4"
      },
      "source": [
        "* **GET /organisation/{id}/award** that offers the whole list of awards which a specific organisations is involved in."
      ]
    },
    {
      "cell_type": "code",
      "metadata": {
        "id": "cGd69K7lt0HI",
        "colab": {
          "base_uri": "https://localhost:8080/"
        },
        "outputId": "2d21327b-15fe-4aa1-a3a1-ec3c77421b22"
      },
      "source": [
        "resp = requests.get('http://tbfy.librairy.linkeddata.es/kg-api/organisation/' + ocid + '/award/')\n",
        "if resp.status_code != 200:\n",
        "    # This means something went wrong.\n",
        "    raise ApiError('GET /tasks/ {}'.format(resp.status_code))\n",
        "for todo_item in resp.json():\n",
        "    print('{} '.format(todo_item['id']))\n"
      ],
      "execution_count": null,
      "outputs": [
        {
          "output_type": "stream",
          "text": [
            "ocds-0c46vo-0001-8c774d64-72fe-4558-a610-38247330e2c4_16ef3707-f7c2-4b16-ba34-ab9f6ec9136a \n",
            "ocds-0c46vo-0001-83819ba1-e901-4962-98a4-284de635387f_1f64bd58-7474-483d-9134-10781cab5dc5 \n",
            "ocds-0c46vo-0133-500627-2020_20201021500627_A13 \n",
            "ocds-0c46vo-0133-500627-2020_20201021500627_A26 \n",
            "ocds-0c46vo-0133-500627-2020_20201021500627_A3 \n"
          ],
          "name": "stdout"
        }
      ]
    },
    {
      "cell_type": "markdown",
      "metadata": {
        "id": "3zuZ_nHEzK5H"
      },
      "source": [
        ""
      ]
    },
    {
      "cell_type": "markdown",
      "metadata": {
        "id": "Ig_JtUIzyHcm"
      },
      "source": [
        "# 2. **CONTRACTS**\n",
        "\n",
        "This resource offers all the information related to contracts. It is divided into six services:"
      ]
    },
    {
      "cell_type": "markdown",
      "metadata": {
        "id": "lcq-UrHxzQob"
      },
      "source": [
        "* **GET /contract** that offers the whole list of contracts"
      ]
    },
    {
      "cell_type": "code",
      "metadata": {
        "id": "vOaDAKYazWPT",
        "colab": {
          "base_uri": "https://localhost:8080/"
        },
        "outputId": "55d7fb3a-3224-4b3b-e198-f45ee5f97d45"
      },
      "source": [
        "resp = requests.get('http://tbfy.librairy.linkeddata.es/kg-api/contract')\n",
        "if resp.status_code != 200:\n",
        "    # This means something went wrong.\n",
        "    raise ApiError('GET /tasks/ {}'.format(resp.status_code))\n",
        "for todo_item in resp.json():\n",
        "    print('{} '.format(todo_item['id']))"
      ],
      "execution_count": null,
      "outputs": [
        {
          "output_type": "stream",
          "text": [
            "ocds-0c46vo-0009-DN379620-1_1 \n",
            "ocds-0c46vo-0009-DN368144-1_1 \n",
            "ocds-0c46vo-0009-DN374045-1_1 \n",
            "ocds-0c46vo-0009-DN375735-1_1 \n",
            "ocds-0c46vo-0009-DN376434-1_1 \n",
            "ocds-0c46vo-0009-DN377858-1_1 \n",
            "ocds-0c46vo-0009-DN378763-1_1 \n",
            "ocds-0c46vo-0009-DN381204-1_1 \n",
            "ocds-0c46vo-0009-DN383682-1_1 \n",
            "ocds-0c46vo-0009-DN384215-1_1 \n"
          ],
          "name": "stdout"
        }
      ]
    },
    {
      "cell_type": "markdown",
      "metadata": {
        "id": "kZ4pSP6o0b0z"
      },
      "source": [
        "* **GET /contract/{id}** that offers the whole information of a specific contract, knowing its ID"
      ]
    },
    {
      "cell_type": "code",
      "metadata": {
        "id": "ANfiH50D0uPr",
        "colab": {
          "base_uri": "https://localhost:8080/"
        },
        "outputId": "bf9e05b2-6e40-445a-cb9c-ae3a746c6766"
      },
      "source": [
        "ocid = 'ocds-0c46vo-0009-DN368144-1_1'\n",
        "resp = requests.get('http://tbfy.librairy.linkeddata.es/kg-api/contract/' + ocid)\n",
        "if resp.status_code != 200:\n",
        "    # This means something went wrong.\n",
        "    raise ApiError('GET /tasks/ {}'.format(resp.status_code))\n",
        "print('Identifier: ' + RetrieveField(resp.json(),'id'))"
      ],
      "execution_count": null,
      "outputs": [
        {
          "output_type": "stream",
          "text": [
            "Identifier: ocds-0c46vo-0009-DN368144-1_1\n"
          ],
          "name": "stdout"
        }
      ]
    },
    {
      "cell_type": "markdown",
      "metadata": {
        "id": "saW0SfWs-pGw"
      },
      "source": [
        "* **GET /contract/{id}/amendment** that offers the whole list of amendments of a specific contract, knowing its ID"
      ]
    },
    {
      "cell_type": "code",
      "metadata": {
        "id": "dW302UHt-0Uh"
      },
      "source": [
        "resp = requests.get('http://tbfy.librairy.linkeddata.es/kg-api/contract/' + ocid + '/amendment')\n",
        "if resp.status_code != 200:\n",
        "    # This means something went wrong.\n",
        "    raise ApiError('GET /tasks/ {}'.format(resp.status_code))\n",
        "for todo_item in resp.json():\n",
        "    print('{} '.format(todo_item['id']))"
      ],
      "execution_count": null,
      "outputs": []
    },
    {
      "cell_type": "markdown",
      "metadata": {
        "id": "U_3OR4_mB35t"
      },
      "source": [
        "* **GET /contract/{id}/document** that offers the whole list of documents of a specific contract, knowing its ID"
      ]
    },
    {
      "cell_type": "code",
      "metadata": {
        "id": "-v8dh05OB-zr"
      },
      "source": [
        "resp = requests.get('http://tbfy.librairy.linkeddata.es/kg-api/contract/' + ocid + '/document')\n",
        "if resp.status_code != 200:\n",
        "    # This means something went wrong.\n",
        "    raise ApiError('GET /tasks/ {}'.format(resp.status_code))\n",
        "for todo_item in resp.json():\n",
        "    print('{} '.format(todo_item['id']))"
      ],
      "execution_count": null,
      "outputs": []
    },
    {
      "cell_type": "markdown",
      "metadata": {
        "id": "ZkKHlxSDCGKE"
      },
      "source": [
        "* **GET /contract/{id}/item** that offers the whole list of items of a specific contract, knowing its ID"
      ]
    },
    {
      "cell_type": "code",
      "metadata": {
        "id": "cUdcwgKyCKvE"
      },
      "source": [
        "resp = requests.get('http://tbfy.librairy.linkeddata.es/kg-api/contract/' + ocid + '/item')\n",
        "if resp.status_code != 200:\n",
        "    # This means something went wrong.\n",
        "    raise ApiError('GET /tasks/ {}'.format(resp.status_code))\n",
        "for todo_item in resp.json():\n",
        "    print('{} '.format(todo_item['id']))"
      ],
      "execution_count": null,
      "outputs": []
    },
    {
      "cell_type": "markdown",
      "metadata": {
        "id": "h7oXMyUOCQRc"
      },
      "source": [
        "* **GET /contract/{id}/buyer** that offers the whole list of buyers of a specific contract, knowing its ID"
      ]
    },
    {
      "cell_type": "code",
      "metadata": {
        "id": "n2bIdefGCV6d"
      },
      "source": [
        "resp = requests.get('http://tbfy.librairy.linkeddata.es/kg-api/contract/' + ocid + '/buyer')\n",
        "if resp.status_code != 200:\n",
        "    # This means something went wrong.\n",
        "    raise ApiError('GET /tasks/ {}'.format(resp.status_code))\n",
        "for todo_item in resp.json():\n",
        "    print('{} '.format(todo_item['id']))"
      ],
      "execution_count": null,
      "outputs": []
    },
    {
      "cell_type": "markdown",
      "metadata": {
        "id": "YMxY2H29Cicf"
      },
      "source": [
        "# 3. **CONTRACTING PROCESSES**\n",
        "\n",
        "This resource offers all the information related to the ontracting process. It is divided into four services:"
      ]
    },
    {
      "cell_type": "markdown",
      "metadata": {
        "id": "34gVsAq0CvQZ"
      },
      "source": [
        "* **GET /contracting-process** that offers the whole list of contracting processes"
      ]
    },
    {
      "cell_type": "code",
      "metadata": {
        "id": "ZuHqeaQQC669",
        "colab": {
          "base_uri": "https://localhost:8080/"
        },
        "outputId": "83bc0f01-d5da-4176-bc97-aa248e5cd107"
      },
      "source": [
        "resp = requests.get('http://tbfy.librairy.linkeddata.es/kg-api/contractingProcess')\n",
        "if resp.status_code != 200:\n",
        "    # This means something went wrong.\n",
        "    raise ApiError('GET /tasks/ {}'.format(resp.status_code))\n",
        "for todo_item in resp.json():\n",
        "    print('{} '.format(todo_item['id']))"
      ],
      "execution_count": null,
      "outputs": [
        {
          "output_type": "stream",
          "text": [
            "ocds-0c46vo-0009-DN379620-1 \n",
            "ocds-0c46vo-0020-gosharedservices_229 \n",
            "ocds-0c46vo-0105-532232 \n",
            "ocds-0c46vo-0117-139762 \n",
            "ocds-0c46vo-0001-02f25542-7be1-42f8-a670-873fe39f2cd7 \n",
            "ocds-0c46vo-0001-071aaeed-daf4-4ebf-9b2d-08536beb6ae3 \n",
            "ocds-0c46vo-0001-0b1a2380-10ac-45ea-82dc-519e24ee8dcf \n",
            "ocds-0c46vo-0001-1399e0bb-4af4-4793-8f70-b850e4e8a191 \n",
            "ocds-0c46vo-0001-1399e0bb-4af4-4793-8f70-b850e4e8a191 \n",
            "ocds-0c46vo-0001-270e7ae7-baba-4d08-8b5c-ab2e5b5cefa0 \n"
          ],
          "name": "stdout"
        }
      ]
    },
    {
      "cell_type": "markdown",
      "metadata": {
        "id": "_cqdpPssDUdn"
      },
      "source": [
        "* **GET /contracting-process/{id}** that offers the whole information of a specific contracting process, knowing its ID"
      ]
    },
    {
      "cell_type": "code",
      "metadata": {
        "id": "JFH4-kC9Datv",
        "colab": {
          "base_uri": "https://localhost:8080/"
        },
        "outputId": "bf0f2acb-a4ed-4258-f64e-8c2cc28ca692"
      },
      "source": [
        "ocid = 'ocds-0c46vo-0117-139762'\n",
        "resp = requests.get('http://tbfy.librairy.linkeddata.es/kg-api/contractingProcess/' + ocid)\n",
        "if resp.status_code != 200:\n",
        "    # This means something went wrong.\n",
        "    raise ApiError('GET /tasks/ {}'.format(resp.status_code))\n",
        "print('Identifier: ' + RetrieveField(resp.json(),'id'))\n",
        "print(resp.json())"
      ],
      "execution_count": null,
      "outputs": [
        {
          "output_type": "stream",
          "text": [
            "Identifier: ocds-0c46vo-0117-139762\n",
            "{'id': 'ocds-0c46vo-0117-139762', '_creationDate': '2019-03-30T01:39:52.387441+00:00'}\n"
          ],
          "name": "stdout"
        }
      ]
    },
    {
      "cell_type": "markdown",
      "metadata": {
        "id": "0_h7qmINTyS1"
      },
      "source": [
        "# **API ACCOUNTS AUTHENTICATION AND AUTHORISATION**\n",
        "\n",
        "The current API does not provide any type of authentication or authorisation mechanisms to access data. However, the core API will provide basic authentication or authorisation mechanisms that will be based on Spring Security, given the technology stack that has been proposed for the API development."
      ]
    }
  ]
}