{
  "nbformat": 4,
  "nbformat_minor": 0,
  "metadata": {
    "colab": {
      "name": "UseCase1.ipynb",
      "provenance": [],
      "include_colab_link": true
    },
    "kernelspec": {
      "name": "python3",
      "display_name": "Python 3"
    }
  },
  "cells": [
    {
      "cell_type": "markdown",
      "metadata": {
        "id": "view-in-github",
        "colab_type": "text"
      },
      "source": [
        "<a href=\"https://colab.research.google.com/github/TBFY/knowledge-graph-API/blob/master/UseCase1.ipynb\" target=\"_parent\"><img src=\"https://colab.research.google.com/assets/colab-badge.svg\" alt=\"Open In Colab\"/></a>"
      ]
    },
    {
      "cell_type": "markdown",
      "metadata": {
        "id": "kDtY46wE_1D-",
        "colab_type": "text"
      },
      "source": [
        "![TBFY-Banner](https://raw.githubusercontent.com/TBFY/general/master/figures/tbfy-banner.png)"
      ]
    },
    {
      "cell_type": "markdown",
      "metadata": {
        "id": "IEk2U9ZB_5ym",
        "colab_type": "text"
      },
      "source": [
        "# **USE CASE 1 - Organisations participating in similar contracting-processes**"
      ]
    },
    {
      "cell_type": "markdown",
      "metadata": {
        "id": "cY_QHGGTME7i",
        "colab_type": "text"
      },
      "source": [
        "This use case will show the possible relationship among organisations by comparising the contracting processes which they have played a role in.\n",
        "First thing we are going to do is to get a list of organisations in the **core API**:\n",
        "\n",
        "* **GET /organisation** that offers the whole list of organisations. No parameters are defined in this call that will display the following information:\n",
        "\n",
        "|Field           |Description                                                        |Type   |Required|\n",
        "|----------------|-------------------------------------------------------------------|-------|--------|\n",
        "|**id**          |Corresponds to the identifier of the organisation, must be unique  |string |true    |"
      ]
    },
    {
      "cell_type": "code",
      "metadata": {
        "id": "p1JwiW6TAgve",
        "colab_type": "code",
        "colab": {}
      },
      "source": [
        "import requests\n",
        "import pandas as pd\n",
        "pd.set_option('display.max_rows', 500)\n",
        "pd.set_option('display.max_colwidth', 500)\n",
        "\n",
        "def RetrieveField(json,field):\n",
        "  value=''\n",
        "  try: \n",
        "    value = json[field]\n",
        "  except:\n",
        "    value=''\n",
        "  return value\n",
        "\n",
        "resp = requests.get('https://tbfy.librairy.linkeddata.es/kg-api/organisation')\n",
        "\n",
        "if resp.status_code != 200:\n",
        "    # This means something went wrong.\n",
        "    raise ApiError('GET /tasks/ {}'.format(resp.status_code))\n",
        "\n",
        "organisation = [todo_item['id'] for todo_item in resp.json()]\n",
        "repo_dict = {'Organisation': organisation}    \n",
        "repo_df = pd.DataFrame(repo_dict)\n",
        "\n",
        "with pd.option_context('display.max_rows', None, 'display.max_columns', None, 'display.colheader_justify','light', 'display.width', 2000, 'display.max_colwidth', 500):\n",
        "    repo_df = repo_df.stack().str.lstrip().unstack()\n",
        "    repo_df = repo_df.style.set_properties(**{'text-align': 'left'})\n",
        "repo_df"
      ],
      "execution_count": 0,
      "outputs": []
    },
    {
      "cell_type": "markdown",
      "metadata": {
        "id": "_3-rW92GD4Yq",
        "colab_type": "text"
      },
      "source": [
        "In the next step, we will obtain the list of contracting processes which the chosen organisation participates in. To do this, we will use the resource of the **core API**:\n",
        "\n",
        "* **GET /organisation/{id}/contracting-process/** that offers the whole list of contracting processes which an organisation participates in. This resource will display the following information:\n",
        "\n",
        "|Field           |Description                                                        |Type   |Required|\n",
        "|----------------|-------------------------------------------------------------------|-------|--------|\n",
        "|**id**          |Corresponds to the identifier of the contracting-process,          |string |true    |\n",
        "|                |must be unique                                                     |       |        |"
      ]
    },
    {
      "cell_type": "code",
      "metadata": {
        "id": "t90z2_4FENA_",
        "colab_type": "code",
        "colab": {}
      },
      "source": [
        "org1 = 'ocds-0c46vo-0001-a934dde3-e6c6-46bb-9c7b-80094a799d1e_Buyer'\n",
        "resp = requests.get('https://tbfy.librairy.linkeddata.es/kg-api/organisation/' + org1 + '/contracting-process')\n",
        "\n",
        "if resp.status_code != 200:\n",
        "    # This means something went wrong.\n",
        "    raise ApiError('GET /tasks/ {}'.format(resp.status_code))\n",
        "    \n",
        "cp = [todo_item['id'] for todo_item in resp.json()]\n",
        "repo_dict = {'Contracting Process': cp}    \n",
        "repo_df = pd.DataFrame(repo_dict, index=[''])\n",
        "\n",
        "with pd.option_context('display.max_rows', None, 'display.max_columns', None, 'display.colheader_justify','light', 'display.width', 2000, 'display.max_colwidth', 500):\n",
        "    repo_df = repo_df.stack().str.lstrip().unstack()\n",
        "    repo_df = repo_df.style.set_properties(**{'text-align': 'left'})\n",
        "repo_df"
      ],
      "execution_count": 0,
      "outputs": []
    },
    {
      "cell_type": "markdown",
      "metadata": {
        "id": "dzGNGH1fEn_z",
        "colab_type": "text"
      },
      "source": [
        "Then, the tenders involved in these contracting processes will be obtained. To do this, we will use the resource of the **core API**:\n",
        "\n",
        "* **GET /contracting-process/{id}/tender/** that offers the whole list of contracting processes which an organisation participates in. This resource will display the following information:\n",
        "\n",
        "|Field           |Description                                                        |Type   |Required|\n",
        "|----------------|-------------------------------------------------------------------|-------|--------|\n",
        "|**id**          |Corresponds to the identifier of the tender             ,          |string |true    |\n",
        "|                |must be unique                                                     |       |        |\n"
      ]
    },
    {
      "cell_type": "code",
      "metadata": {
        "id": "B2f9Ej5HEvYC",
        "colab_type": "code",
        "colab": {}
      },
      "source": [
        "cp1 = 'ocds-0c46vo-0001-a934dde3-e6c6-46bb-9c7b-80094a799d1e_ContractingProcess'\n",
        "resp = requests.get('https://tbfy.librairy.linkeddata.es/kg-api/contracting-process/' + cp1 + '/tender')\n",
        "\n",
        "if resp.status_code != 200:\n",
        "    # This means something went wrong.\n",
        "    raise ApiError('GET /tasks/ {}'.format(resp.status_code))\n",
        "\n",
        "tender = [todo_item['id'] for todo_item in resp.json()]\n",
        "repo_dict = {'Tender': tender}    \n",
        "repo_df = pd.DataFrame(repo_dict, index=[''])\n",
        "\n",
        "with pd.option_context('display.max_rows', None, 'display.max_columns', None, 'display.colheader_justify','light', 'display.width', 2000, 'display.max_colwidth', 500):\n",
        "    repo_df = repo_df.stack().str.lstrip().unstack()\n",
        "    repo_df = repo_df.style.set_properties(**{'text-align': 'left'})\n",
        "repo_df"
      ],
      "execution_count": 0,
      "outputs": []
    },
    {
      "cell_type": "markdown",
      "metadata": {
        "id": "YbCfbdKQK5-z",
        "colab_type": "text"
      },
      "source": [
        "Now, using the **search API**, a list of similar tender descriptions to the one obtained in the **core API** will be obtained:"
      ]
    },
    {
      "cell_type": "code",
      "metadata": {
        "id": "qr0nuZr_J9vN",
        "colab_type": "code",
        "colab": {}
      },
      "source": [
        "td1 = 'ocds-0c46vo-0001-a934dde3-e6c6-46bb-9c7b-80094a799d1e_Tender_ocds-b5fd17-42de70ec-20c1-4bef-95f4-f0a48ceb662d-pd-437'\n",
        "resp = requests.get('https://tbfy.librairy.linkeddata.es/search-api/documents/' + td1 + '/items?size=10&source=tender', auth=('oeg', 'oeg2018'))\n",
        "\n",
        "if resp.status_code != 200:\n",
        "    # This means something went wrong.\n",
        "    raise ApiError('GET /tasks/ {}'.format(resp.status_code))\n",
        "#for todo_item in resp.json():\n",
        "#    print('{} '.format(todo_item['id']))\n",
        "    \n",
        "tender = [todo_item['id'] for todo_item in resp.json()]\n",
        "score = [todo_item['score'] for todo_item in resp.json()]\n",
        "repo_dict = {'Tender': tender, 'Score': score}    \n",
        "repo_df = pd.DataFrame(repo_dict)\n",
        "\n",
        "with pd.option_context('display.max_rows', None, 'display.max_columns', None, 'display.colheader_justify','light', 'display.width', 2000, 'display.max_colwidth', 500):\n",
        "    repo_df = repo_df.stack().unstack()\n",
        "    repo_df = repo_df.style.set_properties(**{'text-align': 'left'})\n",
        "repo_df "
      ],
      "execution_count": 0,
      "outputs": []
    },
    {
      "cell_type": "markdown",
      "metadata": {
        "id": "72Nsi2gpSHbb",
        "colab_type": "text"
      },
      "source": [
        "Once we have a list of similar tenders, we begin the way back to find out the participating organisations so, using **core API**, the list of contracting processes associated with that tender we will obtained using the resource:\n",
        "\n",
        "* **GET /tender/{id}/contracting-process/** that offers the whole list of contracting processes related to a tender. This resource will display the following information:\n",
        "\n",
        "|Field           |Description                                                        |Type   |Required|\n",
        "|----------------|-------------------------------------------------------------------|-------|--------|\n",
        "|**id**          |Corresponds to the identifier of the contracting-process,          |string |true    |\n",
        "|                |must be unique                                                     |       |        |"
      ]
    },
    {
      "cell_type": "code",
      "metadata": {
        "id": "1FWHZ8XASjsS",
        "colab_type": "code",
        "colab": {}
      },
      "source": [
        "td2 = 'ocds-0c46vo-0133-072076-2019_Tender_072076-2019_td'\n",
        "resp = requests.get('https://tbfy.librairy.linkeddata.es/kg-api/tender/' + td2 + '/contracting-process')\n",
        "\n",
        "if resp.status_code != 200:\n",
        "    # This means something went wrong.\n",
        "    raise ApiError('GET /tasks/ {}'.format(resp.status_code))\n",
        "\n",
        "cp = [todo_item['id'] for todo_item in resp.json()]\n",
        "repo_dict = {'Contracting Process': cp}    \n",
        "repo_df = pd.DataFrame(repo_dict, index=[''])\n",
        "\n",
        "with pd.option_context('display.max_rows', None, 'display.max_columns', None, 'display.colheader_justify','light', 'display.width', 2000, 'display.max_colwidth', 500):\n",
        "    repo_df = repo_df.stack().str.lstrip().unstack()\n",
        "    repo_df = repo_df.style.set_properties(**{'text-align': 'left'})\n",
        "repo_df"
      ],
      "execution_count": 0,
      "outputs": []
    },
    {
      "cell_type": "markdown",
      "metadata": {
        "id": "P4Rx-QDTSyeC",
        "colab_type": "text"
      },
      "source": [
        "Knowing the contracting processes, we can find out the organisations related to the contracting process using the resource:\n",
        "\n",
        "* **GET /contracting-process/{id}/organisation/** that offers the whole list of organisations related to a contracting process. This resource will display the following information:\n",
        "\n",
        "|Field           |Description                                                        |Type   |Required|\n",
        "|----------------|-------------------------------------------------------------------|-------|--------|\n",
        "|**id**          |Corresponds to the identifier of the organisation,                 |string |true    |\n",
        "|                |must be unique                                                     |       |        |"
      ]
    },
    {
      "cell_type": "code",
      "metadata": {
        "id": "yhEfltgES3gE",
        "colab_type": "code",
        "colab": {}
      },
      "source": [
        "cp2 = 'ocds-0c46vo-0133-072076-2019_ContractingProcess'\n",
        "resp = requests.get('https://tbfy.librairy.linkeddata.es/kg-api/contracting-process/' + cp2 + '/organisation')\n",
        "\n",
        "if resp.status_code != 200:\n",
        "    # This means something went wrong.\n",
        "    raise ApiError('GET /tasks/ {}'.format(resp.status_code))\n",
        "\n",
        "organisation = [todo_item['id'] for todo_item in resp.json()]\n",
        "repo_dict = {'Organisation': organisation}    \n",
        "repo_df = pd.DataFrame(repo_dict, index=[''])\n",
        "\n",
        "with pd.option_context('display.max_rows', None, 'display.max_columns', None, 'display.colheader_justify','light', 'display.width', 2000, 'display.max_colwidth', 500):\n",
        "    repo_df = repo_df.stack().str.lstrip().unstack()\n",
        "    repo_df = repo_df.style.set_properties(**{'text-align': 'left'})\n",
        "repo_df"
      ],
      "execution_count": 0,
      "outputs": []
    },
    {
      "cell_type": "markdown",
      "metadata": {
        "id": "C9FlPIQDbIXh",
        "colab_type": "text"
      },
      "source": [
        "The last step is to make a comparision between both organisations. Basic information of organisations and the description of the tenders will be also provided."
      ]
    },
    {
      "cell_type": "code",
      "metadata": {
        "id": "hWJslF4VbPKJ",
        "colab_type": "code",
        "colab": {}
      },
      "source": [
        "org2 = 'ocds-0c46vo-0133-072076-2019_Buyer'\n",
        "\n",
        "resp1 = requests.get('http://tbfy.librairy.linkeddata.es/kg-api/organisation/' + org1)\n",
        "if resp1.status_code != 200:\n",
        "    # This means something went wrong.\n",
        "    raise ApiError('GET /tasks/ {}'.format(resp1.status_code))\n",
        "\n",
        "resp2 = requests.get('http://tbfy.librairy.linkeddata.es/kg-api/organisation/' + org2)\n",
        "if resp2.status_code != 200:\n",
        "    # This means something went wrong.\n",
        "    raise ApiError('GET /tasks/ {}'.format(resp1.status_code))\n",
        "\n",
        "resp3 = requests.get('http://tbfy.librairy.linkeddata.es/kg-api/tender/' + td1)\n",
        "if resp1.status_code != 200:\n",
        "    # This means something went wrong.\n",
        "    raise ApiError('GET /tasks/ {}'.format(resp1.status_code))\n",
        "\n",
        "resp4 = requests.get('http://tbfy.librairy.linkeddata.es/kg-api/tender/' + td2)\n",
        "if resp2.status_code != 200:\n",
        "    # This means something went wrong.\n",
        "    raise ApiError('GET /tasks/ {}'.format(resp2.status_code))\n",
        "\n",
        "\n",
        "org = {'Organisation 1':[RetrieveField(resp1.json(),'id'), RetrieveField(resp1.json(),'name'), RetrieveField(resp1.json(),'streetAddress'), RetrieveField(resp1.json(),'locality'), RetrieveField(resp1.json(),'postalCode'), RetrieveField(resp1.json(),'country'), RetrieveField(resp1.json(),'contact'), RetrieveField(resp1.json(),'email'), RetrieveField(resp1.json(),'telephone'), RetrieveField(resp3.json(),'description')],\n",
        "       'Comparision':['', '', '', '', '', '', '', '', '', ''],\n",
        "       'Organisation 2':[RetrieveField(resp2.json(),'id'), RetrieveField(resp2.json(),'name'), RetrieveField(resp2.json(),'streetAddress'), RetrieveField(resp2.json(),'locality'), RetrieveField(resp2.json(),'postalCode'), RetrieveField(resp2.json(),'country'), RetrieveField(resp2.json(),'contact'), RetrieveField(resp2.json(),'email'), RetrieveField(resp2.json(),'telephone'), RetrieveField(resp4.json(),'description')]}\n",
        "df = pd.DataFrame(org, index=['Identifier', 'Name', 'Address', 'Locality', 'Postal Code', 'Country', 'Contact', 'Email', 'Telephone', 'Tender Description'])\n",
        "\n",
        "with pd.option_context('display.max_rows', None, 'display.max_columns', None, 'display.colheader_justify','light', 'display.width', 2000, 'display.max_colwidth', 500):\n",
        "    df = df.stack().str.lstrip().unstack()\n",
        "    df = df.style.set_properties(**{'text-align': 'justify'})\n",
        "df\n",
        "   "
      ],
      "execution_count": 0,
      "outputs": []
    }
  ]
}