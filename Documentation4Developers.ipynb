{
  "nbformat": 4,
  "nbformat_minor": 0,
  "metadata": {
    "colab": {
      "name": "Documentation4Developers.ipynb",
      "provenance": [],
      "collapsed_sections": [],
      "include_colab_link": true
    },
    "kernelspec": {
      "name": "python3",
      "display_name": "Python 3"
    }
  },
  "cells": [
    {
      "cell_type": "markdown",
      "metadata": {
        "id": "view-in-github",
        "colab_type": "text"
      },
      "source": [
        "<a href=\"https://colab.research.google.com/github/TBFY/knowledge-graph-API/blob/master/Documentation4Developers.ipynb\" target=\"_parent\"><img src=\"https://colab.research.google.com/assets/colab-badge.svg\" alt=\"Open In Colab\"/></a>"
      ]
    },
    {
      "cell_type": "markdown",
      "metadata": {
        "id": "ClYPL1LU38oC",
        "colab_type": "text"
      },
      "source": [
        "![TBFY-Banner](https://raw.githubusercontent.com/TBFY/general/master/figures/tbfy-banner.png)"
      ]
    },
    {
      "cell_type": "markdown",
      "metadata": {
        "colab_type": "text",
        "id": "n9jpmix0Ty9F"
      },
      "source": [
        "# **DOCUMENTATION FOR DEVELOPERS**\n",
        "\n"
      ]
    },
    {
      "cell_type": "code",
      "metadata": {
        "id": "XD7bxts938GZ",
        "colab_type": "code",
        "outputId": "a11f8056-83ba-4a64-8bfe-52e6d6fa9c94",
        "colab": {
          "base_uri": "https://localhost:8080/",
          "height": 102
        }
      },
      "source": [
        "pip install requests"
      ],
      "execution_count": 1,
      "outputs": [
        {
          "output_type": "stream",
          "text": [
            "Requirement already satisfied: requests in /usr/local/lib/python3.6/dist-packages (2.21.0)\n",
            "Requirement already satisfied: certifi>=2017.4.17 in /usr/local/lib/python3.6/dist-packages (from requests) (2019.9.11)\n",
            "Requirement already satisfied: urllib3<1.25,>=1.21.1 in /usr/local/lib/python3.6/dist-packages (from requests) (1.24.3)\n",
            "Requirement already satisfied: chardet<3.1.0,>=3.0.2 in /usr/local/lib/python3.6/dist-packages (from requests) (3.0.4)\n",
            "Requirement already satisfied: idna<2.9,>=2.5 in /usr/local/lib/python3.6/dist-packages (from requests) (2.8)\n"
          ],
          "name": "stdout"
        }
      ]
    },
    {
      "cell_type": "markdown",
      "metadata": {
        "id": "S5JX96q-3kCh",
        "colab_type": "text"
      },
      "source": [
        "# **INTRODUCTION**\n",
        "\n",
        "The docker-based TheyBuyForYou API is built to allow you to obtain public procurement data from the TheyBuyForYou project [knowledge graph](https://github.com/TBFY/knowledge-graph).\n",
        "\n",
        "The API is organised around REST. All API calls should be made to the http://tbfy.librairy.linkeddata.es/kg-api/ base domain. A JSON file will be returned in all responses from the API. The API allows you 25 different calls organised in 5 main groups:\n",
        "\n",
        "1. Organisations\n",
        "1. Contracts\n",
        "1. Contracting processes\n",
        "1. Tenders\n",
        "1. Awards\n",
        "\n",
        "\n"
      ]
    },
    {
      "cell_type": "markdown",
      "metadata": {
        "id": "vUxwSBL1oQda",
        "colab_type": "text"
      },
      "source": [
        "# 1. **ORGANISATIONS**\n",
        "\n",
        "This resource offers all the information related to organisations. It is divided into four services:"
      ]
    },
    {
      "cell_type": "markdown",
      "metadata": {
        "id": "c2ktoDKFf1Y1",
        "colab_type": "text"
      },
      "source": [
        "* **GET /organisation** that offers the whole list of organisations. No parameters are defined in this call that will display the following information:\n",
        "\n",
        "|Field           |Description                                                        |Type   |Required|\n",
        "|----------------|-------------------------------------------------------------------|-------|--------|\n",
        "|**id**          |Corresponds to the identifier of the organisation, must be unique  |string |true    |     "
      ]
    },
    {
      "cell_type": "code",
      "metadata": {
        "id": "xck7sV-I3_2j",
        "colab_type": "code",
        "colab": {}
      },
      "source": [
        "import requests\n",
        "\n",
        "class APIError(Exception):\n",
        "    \"\"\"An API Error Exception\"\"\"\n",
        "\n",
        "    def __init__(self, status):\n",
        "        self.status = status\n",
        "\n",
        "    def __str__(self):\n",
        "        return \"APIError: status={}\".format(self.status)\n",
        "      \n",
        "def RetrieveField(json,field):\n",
        "  value=''\n",
        "  try: \n",
        "    value = json[field]\n",
        "  except:\n",
        "    print()\n",
        "  return value\n",
        "\n",
        "resp = requests.get('http://tbfy.librairy.linkeddata.es/kg-api/organisation')\n",
        "if resp.status_code != 200:\n",
        "    # This means something went wrong.\n",
        "    raise ApiError('GET /tasks/ {}'.format(resp.status_code))\n",
        "for todo_item in resp.json():\n",
        "    print('{} {}'.format(todo_item['id'], todo_item['name']))"
      ],
      "execution_count": 0,
      "outputs": []
    },
    {
      "cell_type": "markdown",
      "metadata": {
        "id": "M7oSh0115T0W",
        "colab_type": "text"
      },
      "source": [
        "This error is because of not all fields in a record have a value. Removing the 'Name' field, that is the one that came empty, the error disappears."
      ]
    },
    {
      "cell_type": "code",
      "metadata": {
        "id": "xW34t-fy79L4",
        "colab_type": "code",
        "colab": {}
      },
      "source": [
        "for todo_item in resp.json():\n",
        "    print('{} '.format(todo_item['id']))"
      ],
      "execution_count": 0,
      "outputs": []
    },
    {
      "cell_type": "markdown",
      "metadata": {
        "id": "bjCb-j7swsJQ",
        "colab_type": "text"
      },
      "source": [
        "The number of records shown could be modified by including the size in the parameter:"
      ]
    },
    {
      "cell_type": "code",
      "metadata": {
        "id": "uB3NCCz_w1Kn",
        "colab_type": "code",
        "colab": {}
      },
      "source": [
        "resp = requests.get('http://tbfy.librairy.linkeddata.es/kg-api/organisation?size=20')\n",
        "if resp.status_code != 200:\n",
        "    # This means something went wrong.\n",
        "    raise ApiError('GET /tasks/ {}'.format(resp.status_code))\n",
        "for todo_item in resp.json():\n",
        "    print('{} '.format(todo_item['id']))"
      ],
      "execution_count": 0,
      "outputs": []
    },
    {
      "cell_type": "markdown",
      "metadata": {
        "id": "hBBcFlJHdaAy",
        "colab_type": "text"
      },
      "source": [
        "So, these exceptions must be controlled."
      ]
    },
    {
      "cell_type": "code",
      "metadata": {
        "id": "9EyiI0K8pZ3P",
        "colab_type": "code",
        "colab": {}
      },
      "source": [
        "for todo_item in resp.json():\n",
        "    print('{} {}'.format(RetrieveField(todo_item,'id'), RetrieveField(todo_item,'name')))\n"
      ],
      "execution_count": 0,
      "outputs": []
    },
    {
      "cell_type": "markdown",
      "metadata": {
        "id": "Saxt3hpMeRNY",
        "colab_type": "text"
      },
      "source": [
        "* **GET /organisation/{id}** that offers the whole information of a specific organisation, knowing its ID. One address parameter (id) is defined in the call that will display the following information:\n",
        "\n",
        "|Field           |Description                                                        |Type   |Required|\n",
        "|----------------|-------------------------------------------------------------------|-------|--------|\n",
        "|**id**          |Corresponds to the identifier of the organisation, must be unique  |string |true    |  \n",
        "|**name**        |A common name for the organisation by which this entity is known   |string |false   | \n",
        "|**locality**    |The locality of the contact point/person                           |string |false   | \n",
        "|**postal code** |The postal code of the contact point/person                        |string |false   | \n",
        "|**email**       |The e-mail address of the contact point/person                     |string |false   | \n",
        "|**telephone**   |The telephone number of the contact point/person. This should      |string |false   | \n",
        "|                |include the international dialing code                             |       |        |"
      ]
    },
    {
      "cell_type": "code",
      "metadata": {
        "id": "cesnQH4ddumJ",
        "colab_type": "code",
        "outputId": "81f0532b-8c29-47b5-9c67-9b0b3eb27f21",
        "colab": {
          "base_uri": "https://localhost:8080/",
          "height": 221
        }
      },
      "source": [
        "# ocid = str(input(\"Please, insert the identifier: \"))\n",
        "ocid = 'ocds-0c46vo-0001-19b489e6-936b-4ae5-b7d7-1cbf4beefe28_Award_fa34cc4e-f5cc-4f7a-8437-e5e90cfc51ea_Supplier_MicroStrategy%20Limited'\n",
        "resp = requests.get('http://tbfy.librairy.linkeddata.es/kg-api/organisation/' + ocid)\n",
        "if resp.status_code != 200:\n",
        "    # This means something went wrong.\n",
        "    raise ApiError('GET /tasks/ {}'.format(resp.status_code))\n",
        "print('Identifier: ' + RetrieveField(resp.json(),'id'))\n",
        "print('Name: ' + RetrieveField(resp.json(),'Name'))\n",
        "print('Address: ' + RetrieveField(resp.json(),'streetAddress'))\n",
        "print('Locality: ' + RetrieveField(resp.json(),'locality'))\n",
        "print('Postal Code: ' + RetrieveField(resp.json(),'postalCode'))\n",
        "print('Email: ' + RetrieveField(resp.json(),'email'))\n",
        "print('Telephone: ' + RetrieveField(resp.json(),'telephone'))\n"
      ],
      "execution_count": 5,
      "outputs": [
        {
          "output_type": "stream",
          "text": [
            "Identifier: ocds-0c46vo-0001-19b489e6-936b-4ae5-b7d7-1cbf4beefe28_Award_fa34cc4e-f5cc-4f7a-8437-e5e90cfc51ea_Supplier_MicroStrategy%20Limited\n",
            "\n",
            "Name: \n",
            "Address: Chiswick Park, Building 10         566 Chiswick High Road         Chiswick         London         W4 5XS\n",
            "\n",
            "Locality: \n",
            "\n",
            "Postal Code: \n",
            "\n",
            "Email: \n",
            "\n",
            "Telephone: \n"
          ],
          "name": "stdout"
        }
      ]
    },
    {
      "cell_type": "markdown",
      "metadata": {
        "id": "KT8cp-xVgS6y",
        "colab_type": "text"
      },
      "source": [
        "* **GET /organisation/{id}/contracting-process** that offers the whole list of contracting-processes which a specific organisations is involved in."
      ]
    },
    {
      "cell_type": "code",
      "metadata": {
        "id": "0ThRfhSmgtjC",
        "colab_type": "code",
        "colab": {}
      },
      "source": [
        "resp = requests.get('http://tbfy.librairy.linkeddata.es/kg-api/organisation/' + ocid + '/contracting-process/')\n",
        "if resp.status_code != 200:\n",
        "    # This means something went wrong.\n",
        "    raise ApiError('GET /tasks/ {}'.format(resp.status_code))\n",
        "for todo_item in resp.json():\n",
        "    print('{} '.format(todo_item['id']))"
      ],
      "execution_count": 0,
      "outputs": []
    },
    {
      "cell_type": "markdown",
      "metadata": {
        "id": "KFKI63fQtr-4",
        "colab_type": "text"
      },
      "source": [
        "* **GET /organisation/{id}/award** that offers the whole list of awards which a specific organisations is involved in."
      ]
    },
    {
      "cell_type": "code",
      "metadata": {
        "id": "cGd69K7lt0HI",
        "colab_type": "code",
        "colab": {}
      },
      "source": [
        "resp = requests.get('http://tbfy.librairy.linkeddata.es/kg-api/organisation/' + ocid + '/award/')\n",
        "if resp.status_code != 200:\n",
        "    # This means something went wrong.\n",
        "    raise ApiError('GET /tasks/ {}'.format(resp.status_code))\n",
        "for todo_item in resp.json():\n",
        "    print('{} '.format(todo_item['id']))\n"
      ],
      "execution_count": 0,
      "outputs": []
    },
    {
      "cell_type": "markdown",
      "metadata": {
        "id": "3zuZ_nHEzK5H",
        "colab_type": "text"
      },
      "source": [
        ""
      ]
    },
    {
      "cell_type": "markdown",
      "metadata": {
        "id": "Ig_JtUIzyHcm",
        "colab_type": "text"
      },
      "source": [
        "# 2. **CONTRACTS**\n",
        "\n",
        "This resource offers all the information related to contracts. It is divided into six services:"
      ]
    },
    {
      "cell_type": "markdown",
      "metadata": {
        "id": "lcq-UrHxzQob",
        "colab_type": "text"
      },
      "source": [
        "* **GET /contract** that offers the whole list of contracts"
      ]
    },
    {
      "cell_type": "code",
      "metadata": {
        "id": "vOaDAKYazWPT",
        "colab_type": "code",
        "outputId": "883b3117-ac72-4892-b575-6534a47e38f7",
        "colab": {
          "base_uri": "https://localhost:8080/",
          "height": 187
        }
      },
      "source": [
        "resp = requests.get('http://tbfy.librairy.linkeddata.es/kg-api/contract')\n",
        "if resp.status_code != 200:\n",
        "    # This means something went wrong.\n",
        "    raise ApiError('GET /tasks/ {}'.format(resp.status_code))\n",
        "for todo_item in resp.json():\n",
        "    print('{} '.format(todo_item['id']))"
      ],
      "execution_count": 16,
      "outputs": [
        {
          "output_type": "stream",
          "text": [
            "ocds-0c46vo-0001-0026c65f-4e5c-4217-895c-04ded2f91f0b_Contract \n",
            "ocds-0c46vo-0001-02aa05f0-5b94-40dc-b7b3-df15a22f56da_Contract \n",
            "ocds-0c46vo-0001-10ed102d-56f2-4fc5-9c83-d6ec67b38365_Contract \n",
            "ocds-0c46vo-0001-12b67c7c-8959-468f-859b-42c963592012_Contract \n",
            "ocds-0c46vo-0001-139edee9-f67c-4c34-a5a9-c7c57134c56b_Contract \n",
            "ocds-0c46vo-0001-19b489e6-936b-4ae5-b7d7-1cbf4beefe28_Contract \n",
            "ocds-0c46vo-0001-1b5a0ea1-781f-4cea-b589-7403d12ead96_Contract \n",
            "ocds-0c46vo-0001-1ddeab48-41ea-4981-b345-0f2fa1b780de_Contract \n",
            "ocds-0c46vo-0001-1e62b02c-45f4-452b-abf7-e2e5a483c6c9_Contract \n",
            "ocds-0c46vo-0001-2350497c-f4d6-4cd4-8c0c-4ce3212a1971_Contract \n"
          ],
          "name": "stdout"
        }
      ]
    },
    {
      "cell_type": "markdown",
      "metadata": {
        "id": "kZ4pSP6o0b0z",
        "colab_type": "text"
      },
      "source": [
        "* **GET /contract/{id}** that offers the whole information of a specific contract, knowing its ID"
      ]
    },
    {
      "cell_type": "code",
      "metadata": {
        "id": "ANfiH50D0uPr",
        "colab_type": "code",
        "outputId": "a09e8a64-a52f-43a5-f19f-0b0c3b3762a8",
        "colab": {
          "base_uri": "https://localhost:8080/",
          "height": 34
        }
      },
      "source": [
        "ocid = 'ocds-0c46vo-0001-1ddeab48-41ea-4981-b345-0f2fa1b780de_Contract'\n",
        "resp = requests.get('http://tbfy.librairy.linkeddata.es/kg-api/contract/' + ocid)\n",
        "if resp.status_code != 200:\n",
        "    # This means something went wrong.\n",
        "    raise ApiError('GET /tasks/ {}'.format(resp.status_code))\n",
        "print('Identifier: ' + RetrieveField(resp.json(),'id'))"
      ],
      "execution_count": 0,
      "outputs": [
        {
          "output_type": "stream",
          "text": [
            "Identifier: ocds-0c46vo-0001-1ddeab48-41ea-4981-b345-0f2fa1b780de_Contract\n"
          ],
          "name": "stdout"
        }
      ]
    },
    {
      "cell_type": "markdown",
      "metadata": {
        "id": "saW0SfWs-pGw",
        "colab_type": "text"
      },
      "source": [
        "* **GET /contract/{id}/amendment** that offers the whole list of amendments of a specific contract, knowing its ID"
      ]
    },
    {
      "cell_type": "code",
      "metadata": {
        "id": "dW302UHt-0Uh",
        "colab_type": "code",
        "colab": {
          "base_uri": "https://localhost:8080/",
          "height": 232
        },
        "outputId": "edda3ed2-322c-4d72-d58a-4ebc4a79daca"
      },
      "source": [
        "resp = requests.get('http://tbfy.librairy.linkeddata.es/kg-api/contract' + ocid + 'amendment')\n",
        "if resp.status_code != 200:\n",
        "    # This means something went wrong.\n",
        "    raise ApiError('GET /tasks/ {}'.format(resp.status_code))\n",
        "for todo_item in resp.json():\n",
        "    print('{} '.format(todo_item['id']))"
      ],
      "execution_count": 17,
      "outputs": [
        {
          "output_type": "error",
          "ename": "NameError",
          "evalue": "ignored",
          "traceback": [
            "\u001b[0;31m---------------------------------------------------------------------------\u001b[0m",
            "\u001b[0;31mNameError\u001b[0m                                 Traceback (most recent call last)",
            "\u001b[0;32m<ipython-input-17-c91040149728>\u001b[0m in \u001b[0;36m<module>\u001b[0;34m()\u001b[0m\n\u001b[1;32m      2\u001b[0m \u001b[0;32mif\u001b[0m \u001b[0mresp\u001b[0m\u001b[0;34m.\u001b[0m\u001b[0mstatus_code\u001b[0m \u001b[0;34m!=\u001b[0m \u001b[0;36m200\u001b[0m\u001b[0;34m:\u001b[0m\u001b[0;34m\u001b[0m\u001b[0;34m\u001b[0m\u001b[0m\n\u001b[1;32m      3\u001b[0m     \u001b[0;31m# This means something went wrong.\u001b[0m\u001b[0;34m\u001b[0m\u001b[0;34m\u001b[0m\u001b[0;34m\u001b[0m\u001b[0m\n\u001b[0;32m----> 4\u001b[0;31m     \u001b[0;32mraise\u001b[0m \u001b[0mApiError\u001b[0m\u001b[0;34m(\u001b[0m\u001b[0;34m'GET /tasks/ {}'\u001b[0m\u001b[0;34m.\u001b[0m\u001b[0mformat\u001b[0m\u001b[0;34m(\u001b[0m\u001b[0mresp\u001b[0m\u001b[0;34m.\u001b[0m\u001b[0mstatus_code\u001b[0m\u001b[0;34m)\u001b[0m\u001b[0;34m)\u001b[0m\u001b[0;34m\u001b[0m\u001b[0;34m\u001b[0m\u001b[0m\n\u001b[0m\u001b[1;32m      5\u001b[0m \u001b[0;32mfor\u001b[0m \u001b[0mtodo_item\u001b[0m \u001b[0;32min\u001b[0m \u001b[0mresp\u001b[0m\u001b[0;34m.\u001b[0m\u001b[0mjson\u001b[0m\u001b[0;34m(\u001b[0m\u001b[0;34m)\u001b[0m\u001b[0;34m:\u001b[0m\u001b[0;34m\u001b[0m\u001b[0;34m\u001b[0m\u001b[0m\n\u001b[1;32m      6\u001b[0m     \u001b[0mprint\u001b[0m\u001b[0;34m(\u001b[0m\u001b[0;34m'{} '\u001b[0m\u001b[0;34m.\u001b[0m\u001b[0mformat\u001b[0m\u001b[0;34m(\u001b[0m\u001b[0mtodo_item\u001b[0m\u001b[0;34m[\u001b[0m\u001b[0;34m'id'\u001b[0m\u001b[0;34m]\u001b[0m\u001b[0;34m)\u001b[0m\u001b[0;34m)\u001b[0m\u001b[0;34m\u001b[0m\u001b[0;34m\u001b[0m\u001b[0m\n",
            "\u001b[0;31mNameError\u001b[0m: name 'ApiError' is not defined"
          ]
        }
      ]
    },
    {
      "cell_type": "markdown",
      "metadata": {
        "id": "U_3OR4_mB35t",
        "colab_type": "text"
      },
      "source": [
        "* **GET /contract/{id}/document** that offers the whole list of documents of a specific contract, knowing its ID"
      ]
    },
    {
      "cell_type": "code",
      "metadata": {
        "id": "-v8dh05OB-zr",
        "colab_type": "code",
        "colab": {
          "base_uri": "https://localhost:8080/",
          "height": 232
        },
        "outputId": "58705d01-3820-4328-99cc-f0f15ca180e2"
      },
      "source": [
        "resp = requests.get('http://tbfy.librairy.linkeddata.es/kg-api/contract' + ocid + 'document')\n",
        "if resp.status_code != 200:\n",
        "    # This means something went wrong.\n",
        "    raise ApiError('GET /tasks/ {}'.format(resp.status_code))\n",
        "for todo_item in resp.json():\n",
        "    print('{} '.format(todo_item['id']))"
      ],
      "execution_count": 10,
      "outputs": [
        {
          "output_type": "error",
          "ename": "NameError",
          "evalue": "ignored",
          "traceback": [
            "\u001b[0;31m---------------------------------------------------------------------------\u001b[0m",
            "\u001b[0;31mNameError\u001b[0m                                 Traceback (most recent call last)",
            "\u001b[0;32m<ipython-input-10-6c4b8e9aa548>\u001b[0m in \u001b[0;36m<module>\u001b[0;34m()\u001b[0m\n\u001b[1;32m      2\u001b[0m \u001b[0;32mif\u001b[0m \u001b[0mresp\u001b[0m\u001b[0;34m.\u001b[0m\u001b[0mstatus_code\u001b[0m \u001b[0;34m!=\u001b[0m \u001b[0;36m200\u001b[0m\u001b[0;34m:\u001b[0m\u001b[0;34m\u001b[0m\u001b[0;34m\u001b[0m\u001b[0m\n\u001b[1;32m      3\u001b[0m     \u001b[0;31m# This means something went wrong.\u001b[0m\u001b[0;34m\u001b[0m\u001b[0;34m\u001b[0m\u001b[0;34m\u001b[0m\u001b[0m\n\u001b[0;32m----> 4\u001b[0;31m     \u001b[0;32mraise\u001b[0m \u001b[0mApiError\u001b[0m\u001b[0;34m(\u001b[0m\u001b[0;34m'GET /tasks/ {}'\u001b[0m\u001b[0;34m.\u001b[0m\u001b[0mformat\u001b[0m\u001b[0;34m(\u001b[0m\u001b[0mresp\u001b[0m\u001b[0;34m.\u001b[0m\u001b[0mstatus_code\u001b[0m\u001b[0;34m)\u001b[0m\u001b[0;34m)\u001b[0m\u001b[0;34m\u001b[0m\u001b[0;34m\u001b[0m\u001b[0m\n\u001b[0m\u001b[1;32m      5\u001b[0m \u001b[0;32mfor\u001b[0m \u001b[0mtodo_item\u001b[0m \u001b[0;32min\u001b[0m \u001b[0mresp\u001b[0m\u001b[0;34m.\u001b[0m\u001b[0mjson\u001b[0m\u001b[0;34m(\u001b[0m\u001b[0;34m)\u001b[0m\u001b[0;34m:\u001b[0m\u001b[0;34m\u001b[0m\u001b[0;34m\u001b[0m\u001b[0m\n\u001b[1;32m      6\u001b[0m     \u001b[0mprint\u001b[0m\u001b[0;34m(\u001b[0m\u001b[0;34m'{} '\u001b[0m\u001b[0;34m.\u001b[0m\u001b[0mformat\u001b[0m\u001b[0;34m(\u001b[0m\u001b[0mtodo_item\u001b[0m\u001b[0;34m[\u001b[0m\u001b[0;34m'id'\u001b[0m\u001b[0;34m]\u001b[0m\u001b[0;34m)\u001b[0m\u001b[0;34m)\u001b[0m\u001b[0;34m\u001b[0m\u001b[0;34m\u001b[0m\u001b[0m\n",
            "\u001b[0;31mNameError\u001b[0m: name 'ApiError' is not defined"
          ]
        }
      ]
    },
    {
      "cell_type": "markdown",
      "metadata": {
        "id": "ZkKHlxSDCGKE",
        "colab_type": "text"
      },
      "source": [
        "* **GET /contract/{id}/item** that offers the whole list of items of a specific contract, knowing its ID"
      ]
    },
    {
      "cell_type": "code",
      "metadata": {
        "id": "cUdcwgKyCKvE",
        "colab_type": "code",
        "colab": {
          "base_uri": "https://localhost:8080/",
          "height": 232
        },
        "outputId": "4f924c44-b092-49a1-8166-caf5e2e738fb"
      },
      "source": [
        "resp = requests.get('http://tbfy.librairy.linkeddata.es/kg-api/contract' + ocid + 'item')\n",
        "if resp.status_code != 200:\n",
        "    # This means something went wrong.\n",
        "    raise ApiError('GET /tasks/ {}'.format(resp.status_code))\n",
        "for todo_item in resp.json():\n",
        "    print('{} '.format(todo_item['id']))"
      ],
      "execution_count": 9,
      "outputs": [
        {
          "output_type": "error",
          "ename": "NameError",
          "evalue": "ignored",
          "traceback": [
            "\u001b[0;31m---------------------------------------------------------------------------\u001b[0m",
            "\u001b[0;31mNameError\u001b[0m                                 Traceback (most recent call last)",
            "\u001b[0;32m<ipython-input-9-7798642a539d>\u001b[0m in \u001b[0;36m<module>\u001b[0;34m()\u001b[0m\n\u001b[1;32m      2\u001b[0m \u001b[0;32mif\u001b[0m \u001b[0mresp\u001b[0m\u001b[0;34m.\u001b[0m\u001b[0mstatus_code\u001b[0m \u001b[0;34m!=\u001b[0m \u001b[0;36m200\u001b[0m\u001b[0;34m:\u001b[0m\u001b[0;34m\u001b[0m\u001b[0;34m\u001b[0m\u001b[0m\n\u001b[1;32m      3\u001b[0m     \u001b[0;31m# This means something went wrong.\u001b[0m\u001b[0;34m\u001b[0m\u001b[0;34m\u001b[0m\u001b[0;34m\u001b[0m\u001b[0m\n\u001b[0;32m----> 4\u001b[0;31m     \u001b[0;32mraise\u001b[0m \u001b[0mApiError\u001b[0m\u001b[0;34m(\u001b[0m\u001b[0;34m'GET /tasks/ {}'\u001b[0m\u001b[0;34m.\u001b[0m\u001b[0mformat\u001b[0m\u001b[0;34m(\u001b[0m\u001b[0mresp\u001b[0m\u001b[0;34m.\u001b[0m\u001b[0mstatus_code\u001b[0m\u001b[0;34m)\u001b[0m\u001b[0;34m)\u001b[0m\u001b[0;34m\u001b[0m\u001b[0;34m\u001b[0m\u001b[0m\n\u001b[0m\u001b[1;32m      5\u001b[0m \u001b[0;32mfor\u001b[0m \u001b[0mtodo_item\u001b[0m \u001b[0;32min\u001b[0m \u001b[0mresp\u001b[0m\u001b[0;34m.\u001b[0m\u001b[0mjson\u001b[0m\u001b[0;34m(\u001b[0m\u001b[0;34m)\u001b[0m\u001b[0;34m:\u001b[0m\u001b[0;34m\u001b[0m\u001b[0;34m\u001b[0m\u001b[0m\n\u001b[1;32m      6\u001b[0m     \u001b[0mprint\u001b[0m\u001b[0;34m(\u001b[0m\u001b[0;34m'{} '\u001b[0m\u001b[0;34m.\u001b[0m\u001b[0mformat\u001b[0m\u001b[0;34m(\u001b[0m\u001b[0mtodo_item\u001b[0m\u001b[0;34m[\u001b[0m\u001b[0;34m'id'\u001b[0m\u001b[0;34m]\u001b[0m\u001b[0;34m)\u001b[0m\u001b[0;34m)\u001b[0m\u001b[0;34m\u001b[0m\u001b[0;34m\u001b[0m\u001b[0m\n",
            "\u001b[0;31mNameError\u001b[0m: name 'ApiError' is not defined"
          ]
        }
      ]
    },
    {
      "cell_type": "markdown",
      "metadata": {
        "id": "h7oXMyUOCQRc",
        "colab_type": "text"
      },
      "source": [
        "* **GET /contract/{id}/organisation** that offers the whole list of organisations of a specific contract, knowing its ID"
      ]
    },
    {
      "cell_type": "code",
      "metadata": {
        "id": "n2bIdefGCV6d",
        "colab_type": "code",
        "colab": {}
      },
      "source": [
        "resp = requests.get('http://tbfy.librairy.linkeddata.es/kg-api/contract' + ocid + 'organisation')\n",
        "if resp.status_code != 200:\n",
        "    # This means something went wrong.\n",
        "    raise ApiError('GET /tasks/ {}'.format(resp.status_code))\n",
        "for todo_item in resp.json():\n",
        "    print('{} '.format(todo_item['id']))"
      ],
      "execution_count": 0,
      "outputs": []
    },
    {
      "cell_type": "markdown",
      "metadata": {
        "id": "YMxY2H29Cicf",
        "colab_type": "text"
      },
      "source": [
        "# 3. **CONTRACTING PROCESSES**\n",
        "\n",
        "This resource offers all the information related to the ontracting process. It is divided into four services:"
      ]
    },
    {
      "cell_type": "markdown",
      "metadata": {
        "id": "34gVsAq0CvQZ",
        "colab_type": "text"
      },
      "source": [
        "* **GET /contracting-process** that offers the whole list of contracting processes"
      ]
    },
    {
      "cell_type": "code",
      "metadata": {
        "id": "ZuHqeaQQC669",
        "colab_type": "code",
        "outputId": "e2394204-6695-4a30-b3d4-f3cdd520e7d1",
        "colab": {
          "base_uri": "https://localhost:8080/",
          "height": 187
        }
      },
      "source": [
        "resp = requests.get('http://tbfy.librairy.linkeddata.es/kg-api/contracting-process')\n",
        "if resp.status_code != 200:\n",
        "    # This means something went wrong.\n",
        "    raise ApiError('GET /tasks/ {}'.format(resp.status_code))\n",
        "for todo_item in resp.json():\n",
        "    print('{} '.format(todo_item['id']))"
      ],
      "execution_count": 0,
      "outputs": [
        {
          "output_type": "stream",
          "text": [
            "ocds-0c46vo-0001-0026c65f-4e5c-4217-895c-04ded2f91f0b_ContractingProcess \n",
            "ocds-0c46vo-0001-02aa05f0-5b94-40dc-b7b3-df15a22f56da_ContractingProcess \n",
            "ocds-0c46vo-0001-10ed102d-56f2-4fc5-9c83-d6ec67b38365_ContractingProcess \n",
            "ocds-0c46vo-0001-12b67c7c-8959-468f-859b-42c963592012_ContractingProcess \n",
            "ocds-0c46vo-0001-139edee9-f67c-4c34-a5a9-c7c57134c56b_ContractingProcess \n",
            "ocds-0c46vo-0001-19b489e6-936b-4ae5-b7d7-1cbf4beefe28_ContractingProcess \n",
            "ocds-0c46vo-0001-1b5a0ea1-781f-4cea-b589-7403d12ead96_ContractingProcess \n",
            "ocds-0c46vo-0001-1ddeab48-41ea-4981-b345-0f2fa1b780de_ContractingProcess \n",
            "ocds-0c46vo-0001-1e62b02c-45f4-452b-abf7-e2e5a483c6c9_ContractingProcess \n",
            "ocds-0c46vo-0001-2350497c-f4d6-4cd4-8c0c-4ce3212a1971_ContractingProcess \n"
          ],
          "name": "stdout"
        }
      ]
    },
    {
      "cell_type": "markdown",
      "metadata": {
        "id": "_cqdpPssDUdn",
        "colab_type": "text"
      },
      "source": [
        "* **GET /contracting-process/{id}** that offers the whole information of a specific contracting process, knowing its ID"
      ]
    },
    {
      "cell_type": "code",
      "metadata": {
        "id": "JFH4-kC9Datv",
        "colab_type": "code",
        "outputId": "d6fd2863-02b2-4423-ce9d-e39dcd3f4319",
        "colab": {
          "base_uri": "https://localhost:8080/",
          "height": 71
        }
      },
      "source": [
        "ocid = 'ocds-0c46vo-0001-0026c65f-4e5c-4217-895c-04ded2f91f0b_ContractingProcess'\n",
        "resp = requests.get('http://tbfy.librairy.linkeddata.es/kg-api/contracting-process/' + ocid)\n",
        "if resp.status_code != 200:\n",
        "    # This means something went wrong.\n",
        "    raise ApiError('GET /tasks/ {}'.format(resp.status_code))\n",
        "print('Identifier: ' + RetrieveField(resp.json(),'id'))\n",
        "print(resp.json())"
      ],
      "execution_count": 0,
      "outputs": [
        {
          "output_type": "stream",
          "text": [
            "Identifier: ocds-0c46vo-0001-0026c65f-4e5c-4217-895c-04ded2f91f0b_ContractingProcess\n",
            "{'id': 'ocds-0c46vo-0001-0026c65f-4e5c-4217-895c-04ded2f91f0b_ContractingProcess', 'plan': 'ocds-0c46vo-0001-0026c65f-4e5c-4217-895c-04ded2f91f0b_Plan', 'tender': 'ocds-0c46vo-0001-0026c65f-4e5c-4217-895c-04ded2f91f0b_Tender_ocds-b5fd17-d293530a-79ff-4c45-96eb-eeeae21395e5-gbc---024167'}\n"
          ],
          "name": "stdout"
        }
      ]
    },
    {
      "cell_type": "markdown",
      "metadata": {
        "id": "0_h7qmINTyS1",
        "colab_type": "text"
      },
      "source": [
        "# **API ACCOUNTS AUTHENTICATION AND AUTHORISATION**\n",
        "\n",
        "The current API does not provide any type of authentication or authorisation mechanisms to access data. However, the core API will provide basic authentication or authorisation mechanisms that will be based on Spring Security, given the technology stack that has been proposed for the API development."
      ]
    }
  ]
}